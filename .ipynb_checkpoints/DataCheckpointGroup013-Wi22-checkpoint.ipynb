{
 "cells": [
  {
   "cell_type": "markdown",
   "metadata": {},
   "source": [
    "# COGS 108 - Data Checkpoint"
   ]
  },
  {
   "cell_type": "markdown",
   "metadata": {},
   "source": [
    "# Names\n",
    "\n",
    "- Ant Man\n",
    "- Hulk\n",
    "- Iron Man\n",
    "- Thor\n",
    "- Wasp"
   ]
  },
  {
   "cell_type": "markdown",
   "metadata": {},
   "source": [
    "<a id='research_question'></a>\n",
    "# Research Question"
   ]
  },
  {
   "cell_type": "markdown",
   "metadata": {},
   "source": [
    "*Fill in your research question here*"
   ]
  },
  {
   "cell_type": "markdown",
   "metadata": {},
   "source": [
    "# Dataset(s)"
   ]
  },
  {
   "cell_type": "markdown",
   "metadata": {},
   "source": [
    "*Fill in your dataset information here*\n",
<<<<<<< HEAD
    "**Template**\n",
    "- Dataset Name:\n",
    "- Link to the dataset: \n",
    "- Number of observations: \n",
    "\n",
    "1-2 sentences describing each dataset. \n",
    "\n",
    "If you plan to use multiple datasets, add 1-2 sentences about how you plan to combine these datasets.\n",
    "\n",
    "\n",
    "\n",
    "**1. Fatalities and Injuries.**\n",
    "- Dataset Name: 2020 Summary of Hazardous Weather Fatalities, Injuries, and Damage Costs by State\n",
    "- Link to the dataset: https://www.weather.gov/hazstat/\n",
    "- Number of observations: 67 (per year). Each year is a separate dataset.\n",
    "\n",
    "This is a dataset describing the number of fatalities, injuries, property damage costs, and total damage costs due to Hazardous weather for the year of 2015.\n",
    "\n",
    "This dataset is for a single year, we plan to gather information for years from XXXX-XXXX and will merge all of them into one.\n",
    "\n",
    "\n",
    "**2. Frequency of Disasters By State**\n",
    "- Dataset Name: Billion-Dollar Disasters By Year (CPI-Adjusted)\n",
    "- Link to the dataset: https://www.ncdc.noaa.gov/billions/state-freq-data.csv\n",
    "- Number of observations: 2228 \n",
    "\n",
    "This dataset contains the count of natural disasters that cost more than 1 billion dollars for each state from 1980 - 2021.\n",
    "\n",
    "\n",
    "\n",
    "**3. Types of Disaster By State**\n",
    "- Dataset Name: Disaster Declarations Summaries\n",
    "- Link to the dataset: https://www.fema.gov/api/open/v1/DisasterDeclarationsSummaries.csv\n",
    "- Number of observations: 62772\n",
    "\n",
    "1-2 sentences describing each dataset. \n",
    "This dataset contains all federally declared natural disasters from 1953-2022 (by year,state, and type) along with declared recovery programs.\n",
    "\n",
    "If you plan to use multiple datasets, add 1-2 sentences about how you plan to combine these datasets.\n",
    "\n",
    "**4. National Risk Index (NRI)**\n",
    "- Dataset Name:\n",
    "- Link to the dataset: https://hazards.fema.gov/nri/data-resources#csvDownload\n",
    "- Number of observations: 3142\n",
    "\n",
    "Dataset from FEMA that identifies counties and states most at risk to 18 natural hazards. Includes data about expected annual losses from natural hazards, social vulnerability and community resilience. \n",
    "\n"
=======
    "\n",
    "(Copy this information for each dataset)\n",
    "- Dataset Name:\n",
    "- Link to the dataset:\n",
    "- Number of observations:\n",
    "\n",
    "1-2 sentences describing each dataset. \n",
    "\n",
    "If you plan to use multiple datasets, add 1-2 sentences about how you plan to combine these datasets."
>>>>>>> master
   ]
  },
  {
   "cell_type": "markdown",
   "metadata": {},
   "source": [
    "# Setup"
   ]
  },
  {
   "cell_type": "code",
<<<<<<< HEAD
   "execution_count": 166,
   "metadata": {},
   "outputs": [],
   "source": [
    "import pandas as pd\n",
    "import os"
=======
   "execution_count": 1,
   "metadata": {},
   "outputs": [],
   "source": [
    "## YOUR CODE HERE"
>>>>>>> master
   ]
  },
  {
   "cell_type": "markdown",
   "metadata": {},
   "source": [
    "# Data Cleaning"
   ]
  },
  {
   "cell_type": "markdown",
   "metadata": {},
   "source": [
    "Describe your data cleaning steps here."
   ]
  },
  {
<<<<<<< HEAD
   "cell_type": "markdown",
   "metadata": {},
   "source": [
    "## Clean Table #1 (Fatalaties, Injuries, Damage Costs for 2020 Only)"
   ]
  },
  {
   "cell_type": "code",
   "execution_count": 184,
   "metadata": {},
   "outputs": [
    {
     "data": {
      "text/html": [
       "<div>\n",
       "<style scoped>\n",
       "    .dataframe tbody tr th:only-of-type {\n",
       "        vertical-align: middle;\n",
       "    }\n",
       "\n",
       "    .dataframe tbody tr th {\n",
       "        vertical-align: top;\n",
       "    }\n",
       "\n",
       "    .dataframe thead th {\n",
       "        text-align: right;\n",
       "    }\n",
       "</style>\n",
       "<table border=\"1\" class=\"dataframe\">\n",
       "  <thead>\n",
       "    <tr style=\"text-align: right;\">\n",
       "      <th></th>\n",
       "      <th>state</th>\n",
       "      <th>fatalities</th>\n",
       "      <th>injuries</th>\n",
       "      <th>Property Damage (million $)</th>\n",
       "      <th>Crop Damage (million $)</th>\n",
       "      <th>Total Damage (million $)</th>\n",
       "    </tr>\n",
       "    <tr>\n",
       "      <th>year</th>\n",
       "      <th></th>\n",
       "      <th></th>\n",
       "      <th></th>\n",
       "      <th></th>\n",
       "      <th></th>\n",
       "      <th></th>\n",
       "    </tr>\n",
       "  </thead>\n",
       "  <tbody>\n",
       "    <tr>\n",
       "      <th>2020</th>\n",
       "      <td>AK (Alaska)</td>\n",
       "      <td>5</td>\n",
       "      <td>0</td>\n",
       "      <td>35.85</td>\n",
       "      <td>0</td>\n",
       "      <td>35.85</td>\n",
       "    </tr>\n",
       "    <tr>\n",
       "      <th>2020</th>\n",
       "      <td>AL (Alabama)</td>\n",
       "      <td>11</td>\n",
       "      <td>27</td>\n",
       "      <td>313.39</td>\n",
       "      <td>2.08</td>\n",
       "      <td>315.47</td>\n",
       "    </tr>\n",
       "    <tr>\n",
       "      <th>2020</th>\n",
       "      <td>AM (Atlantic South)</td>\n",
       "      <td>0</td>\n",
       "      <td>0</td>\n",
       "      <td>0</td>\n",
       "      <td>0</td>\n",
       "      <td>0</td>\n",
       "    </tr>\n",
       "    <tr>\n",
       "      <th>2020</th>\n",
       "      <td>AN (Atlantic North)</td>\n",
       "      <td>0</td>\n",
       "      <td>0</td>\n",
       "      <td>0.01</td>\n",
       "      <td>0</td>\n",
       "      <td>0.01</td>\n",
       "    </tr>\n",
       "    <tr>\n",
       "      <th>2020</th>\n",
       "      <td>AR (Arkansas)</td>\n",
       "      <td>2</td>\n",
       "      <td>32</td>\n",
       "      <td>313.81</td>\n",
       "      <td>1.41</td>\n",
       "      <td>315.21</td>\n",
       "    </tr>\n",
       "    <tr>\n",
       "      <th>...</th>\n",
       "      <td>...</td>\n",
       "      <td>...</td>\n",
       "      <td>...</td>\n",
       "      <td>...</td>\n",
       "      <td>...</td>\n",
       "      <td>...</td>\n",
       "    </tr>\n",
       "    <tr>\n",
       "      <th>2020</th>\n",
       "      <td>VT (Vermont)</td>\n",
       "      <td>0</td>\n",
       "      <td>0</td>\n",
       "      <td>1.91</td>\n",
       "      <td>0.01</td>\n",
       "      <td>1.92</td>\n",
       "    </tr>\n",
       "    <tr>\n",
       "      <th>2020</th>\n",
       "      <td>WA (Washington)</td>\n",
       "      <td>5</td>\n",
       "      <td>11</td>\n",
       "      <td>1340.16</td>\n",
       "      <td>0.52</td>\n",
       "      <td>1340.68</td>\n",
       "    </tr>\n",
       "    <tr>\n",
       "      <th>2020</th>\n",
       "      <td>WI (Wisconsin)</td>\n",
       "      <td>11</td>\n",
       "      <td>1</td>\n",
       "      <td>79.28</td>\n",
       "      <td>0.26</td>\n",
       "      <td>79.54</td>\n",
       "    </tr>\n",
       "    <tr>\n",
       "      <th>2020</th>\n",
       "      <td>WV (West Virginia)</td>\n",
       "      <td>1</td>\n",
       "      <td>3</td>\n",
       "      <td>5.62</td>\n",
       "      <td>0</td>\n",
       "      <td>5.62</td>\n",
       "    </tr>\n",
       "    <tr>\n",
       "      <th>2020</th>\n",
       "      <td>WY (Wyoming)</td>\n",
       "      <td>0</td>\n",
       "      <td>0</td>\n",
       "      <td>0.03</td>\n",
       "      <td>0</td>\n",
       "      <td>0.03</td>\n",
       "    </tr>\n",
       "  </tbody>\n",
       "</table>\n",
       "<p>67 rows × 6 columns</p>\n",
       "</div>"
      ],
      "text/plain": [
       "                    state fatalities injuries Property Damage (million $)  \\\n",
       "year                                                                        \n",
       "2020          AK (Alaska)          5        0                       35.85   \n",
       "2020         AL (Alabama)         11       27                      313.39   \n",
       "2020  AM (Atlantic South)          0        0                           0   \n",
       "2020  AN (Atlantic North)          0        0                        0.01   \n",
       "2020        AR (Arkansas)          2       32                      313.81   \n",
       "...                   ...        ...      ...                         ...   \n",
       "2020         VT (Vermont)          0        0                        1.91   \n",
       "2020      WA (Washington)          5       11                     1340.16   \n",
       "2020       WI (Wisconsin)         11        1                       79.28   \n",
       "2020   WV (West Virginia)          1        3                        5.62   \n",
       "2020         WY (Wyoming)          0        0                        0.03   \n",
       "\n",
       "     Crop Damage (million $) Total Damage (million $)  \n",
       "year                                                   \n",
       "2020                       0                    35.85  \n",
       "2020                    2.08                   315.47  \n",
       "2020                       0                        0  \n",
       "2020                       0                     0.01  \n",
       "2020                    1.41                   315.21  \n",
       "...                      ...                      ...  \n",
       "2020                    0.01                     1.92  \n",
       "2020                    0.52                  1340.68  \n",
       "2020                    0.26                    79.54  \n",
       "2020                       0                     5.62  \n",
       "2020                       0                     0.03  \n",
       "\n",
       "[67 rows x 6 columns]"
      ]
     },
     "execution_count": 184,
     "metadata": {},
     "output_type": "execute_result"
    }
   ],
   "source": [
    "disaster_2020 = pd.read_csv('datasets/nat_disast_bystate_deaths_cost/state20.csv')\n",
    "disaster_2020 = disaster_2020.rename(columns={\"2020 Summary of Hazardous Weather Fatalities, Injuries, and Damage Costs by State\":\"state\",\n",
    "                                              \"Unnamed: 1\": \"fatalities\", \n",
    "                                              \"Unnamed: 2\": \"injuries\", \n",
    "                                              \"Unnamed: 3\": \"Property Damage (million $)\", \n",
    "                                              \"Unnamed: 4\":\"Crop Damage (million $)\", \n",
    "                                              \"Unnamed: 5\":\"Total Damage (million $)\"}).iloc[3:-1]\n",
    "disaster_2020['year'] = 2020\n",
    "assert(disaster_2020.isna().sum().sum() == 0)\n",
    "\n",
    "disaster_2020.set_index('year')\n",
    "\n",
    "#Use the code below to join several dataframes from several years and set index by year\n",
    "\n",
    "# list_dfs = []\n",
    "\n",
    "# for csv_file in os.listdir(\"datasets/nat_disast_bystate_deaths_cost/\"):\n",
    "#     if csv_file.endswith(\".csv\"):\n",
    "#         list_dfs.append(pd.read_csv(\"datasets/nat_disast_bystate_deaths_cost/{0}\".format(csv_file)))\n",
    "# #         result_df = pd.concat(pd.read_csv(\"datasets/nat_disast_bystate_deaths_cost/{0}\".format(csv_file)))\n",
    "\n",
    "# # disaster_2020\n",
    "# type(list_dfs[0])\n",
    "# result = pd.concat(list_dfs)\n",
    "# result"
   ]
  },
  {
   "cell_type": "markdown",
   "metadata": {},
   "source": [
    "## Clean Table #3 (Types of Disaster By State)"
   ]
  },
  {
   "cell_type": "code",
   "execution_count": 163,
   "metadata": {},
   "outputs": [],
   "source": [
    "disaster_type_df = pd.read_csv('datasets/DisasterDeclarationsSummaries.csv')\n",
    "\n",
    "wanted_columns = ['state', 'declarationDate','fyDeclared','incidentType','declarationTitle','designatedArea']\n",
    "\n",
    "disaster_type_df = disaster_type_df[wanted_columns].rename(columns={\"fyDeclared\": \"fiscalYearDeclared\", \"designatedArea\": \"area\"})\n",
    "assert(disaster_type_df.isna().sum().sum() == 0)\n",
    "\n",
    "# disaster_type_df"
   ]
  },
  {
   "cell_type": "markdown",
   "metadata": {},
   "source": [
    "## Clean Table #4 (NRI)"
   ]
  },
  {
   "cell_type": "code",
   "execution_count": 164,
   "metadata": {},
   "outputs": [],
   "source": [
    "# Look at the \"NRI Data Dictionary in the datasets/NRI_Table_Counties\" to see what the cols mean\n",
    "# EAL = \"Expected Annual Lost\", quantifies the anticipated economic damage resulting from natural hazards each year. \n",
    "# 1-100 scale\n",
    "\n",
    "df_nri = pd.read_csv('datasets/NRI_Table_Counties/NRI_Table_Counties.csv')\n",
    "wanted_cols = ['STATE','STATEABBRV','COUNTY','POPULATION','AREA','RISK_SCORE','RISK_RATNG','EAL_SCORE','EAL_RATNG']\n",
    "\n",
    "df_nri = df_nri[wanted_cols]\n",
    "assert(df_nri.isna().sum().sum() == 0)\n",
    "\n",
    "# df_nri"
   ]
  },
  {
   "cell_type": "code",
   "execution_count": null,
   "metadata": {},
   "outputs": [],
   "source": []
=======
   "cell_type": "code",
   "execution_count": 2,
   "metadata": {},
   "outputs": [],
   "source": [
    "## YOUR CODE HERE\n",
    "## FEEL FREE TO ADD MULTIPLE CELLS PER SECTION"
   ]
>>>>>>> master
  }
 ],
 "metadata": {
  "kernelspec": {
   "display_name": "Python 3 (ipykernel)",
   "language": "python",
   "name": "python3"
  },
  "language_info": {
   "codemirror_mode": {
    "name": "ipython",
    "version": 3
   },
   "file_extension": ".py",
   "mimetype": "text/x-python",
   "name": "python",
   "nbconvert_exporter": "python",
   "pygments_lexer": "ipython3",
   "version": "3.9.5"
  }
 },
 "nbformat": 4,
 "nbformat_minor": 2
}
