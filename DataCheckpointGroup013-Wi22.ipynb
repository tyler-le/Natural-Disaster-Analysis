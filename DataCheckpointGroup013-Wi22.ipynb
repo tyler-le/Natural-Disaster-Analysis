{
 "cells": [
  {
   "cell_type": "markdown",
   "metadata": {},
   "source": [
    "# COGS 108 - Data Checkpoint"
   ]
  },
  {
   "cell_type": "markdown",
   "metadata": {},
   "source": [
    "# Names\n",
    "\n",
    "- Tyler Le\n",
    "- Aditya Tomar\n",
    "- William Lynch\n",
    "- Michael Mao\n",
    "- Natalie Quach"
   ]
  },
  {
   "cell_type": "markdown",
   "metadata": {},
   "source": [
    "<a id='research_question'></a>\n",
    "# Research Question"
   ]
  },
  {
   "cell_type": "markdown",
   "metadata": {},
   "source": [
    "*Fill in your research question here*"
   ]
  },
  {
   "cell_type": "markdown",
   "metadata": {},
   "source": [
    "# Dataset(s)"
   ]
  },
  {
   "cell_type": "markdown",
   "metadata": {},
   "source": [
    "*Fill in your dataset information here*\n",
    "\n",
    "(Copy this information for each dataset)\n",
    "- Dataset Name:\n",
    "- Link to the dataset:\n",
    "- Number of observations:\n",
    "\n",
    "1-2 sentences describing each dataset. \n",
    "\n",
    "If you plan to use multiple datasets, add 1-2 sentences about how you plan to combine these datasets."
   ]
  },
  {
   "cell_type": "markdown",
   "metadata": {},
   "source": [
    "# Setup"
   ]
  },
  {
   "cell_type": "code",
   "execution_count": 3,
   "metadata": {},
   "outputs": [],
   "source": [
    "import pandas as pd"
   ]
  },
  {
   "cell_type": "markdown",
   "metadata": {},
   "source": [
    "# Data Cleaning"
   ]
  },
  {
   "cell_type": "markdown",
   "metadata": {},
   "source": [
    "Describe your data cleaning steps here."
   ]
  },
  {
   "cell_type": "code",
   "execution_count": 5,
   "metadata": {},
   "outputs": [],
   "source": [
    "df = pd.read_csv(\"datasets/housing_price_estimates.csv\")\n",
    "\n",
    "#dfRange will give the Price of homes in set ranges, may make it easier to implement in a visual\n",
    "dfRange = df[['Geography', 'State', 'Price-RangeQ22021', 'Price-RangeQ42019', 'Price-RangeQ32020', 'Price-RangeQ32018', 'Price-RangeQ42020', ]]\n",
    "#dfExcact will be the exact home price estimate.  Combining quarters into years for ease of reading\n",
    "df['County & State'] = df['Geography']\n",
    "df['2016'] = (df['Q1 2016'] + df['Q4 2016'] + df['Q2 2016'])/3\n",
    "df['2017'] = (df['Q12017'] + df['Q2 2017 Price'])/2\n",
    "df['2018'] = (df['Q1 2018'] + df['Q2 2018'] + df['Q3 2018'])/3\n",
    "df['2019'] = (df['Q42019 Price'])\n",
    "df['2020'] = (df['Q4 2020 Price'])\n",
    "df['2021'] = (df['Q1 2021'])\n",
    "dfExact = df[['County & State','2016','2018', '2017', '2019', '2020', '2021']]\n",
    "#dfExact.to_csv(\"HousingPrice16-21\")\n"
   ]
  },
  {
   "cell_type": "code",
   "execution_count": 7,
   "metadata": {},
   "outputs": [],
   "source": [
    "#Need to read all the CPI files for each region\n",
    "df_NY = pd.read_csv(\"datasets/CPI Regions/CPINY.csv\")\n",
    "df_SOUTH = pd.read_csv(\"datasets/CPI Regions/CPISOUTH.csv\")\n",
    "df_ATL = pd.read_csv(\"datasets/CPI Regions/CPIAtl.csv\")\n",
    "df_VA_MD_WV = pd.read_csv(\"datasets/CPI Regions/CPIDC-VA-MD-WV.csv\")\n",
    "df_MID = pd.read_csv(\"datasets/CPI Regions/CPIMidwest.csv\")\n",
    "df_IL_IN_WI = pd.read_csv(\"datasets/CPI Regions/CPIIL-IN-WI.csv\")\n",
    "df_WEST = pd.read_csv(\"datasets/CPI Regions/CPIWest.csv\")\n",
    "df_LOS = pd.read_csv(\"datasets/CPI Regions/CPILA.csv\")\n",
    "df_SF = pd.read_csv(\"datasets/CPI Regions/CPISanFran.csv\")\n",
    "df_PA_NJ_DE_MD = pd.read_csv(\"datasets/CPI Regions/CPIPA-NJ-DE-MD.csv\")\n",
    "df_NORTHEAST = pd.read_csv(\"datasets/CPI Regions/CPINORTHEAST.csv\")"
   ]
  },
  {
   "cell_type": "code",
   "execution_count": 9,
   "metadata": {},
   "outputs": [],
   "source": [
    "#We want to just see the annual ammount, we dont care for each month\n",
    "df_NY = df_NY[['Year', 'Annual']]\n",
    "df_SOUTH = df_SOUTH[['Year', 'Annual']]\n",
    "df_ATL = df_ATL[['Year', 'Annual']]\n",
    "df_VA_MD_WV = df_VA_MD_WV[['Year', 'Annual']]\n",
    "df_MID = df_MID[['Year', 'Annual']]\n",
    "df_IL_IN_WI = df_IL_IN_WI[['Year', 'Annual']]\n",
    "df_WEST = df_WEST[['Year', 'Annual']]\n",
    "df_LOS = df_LOS[['Year', 'Annual']]\n",
    "df_SF = df_SF[['Year', 'Annual']]\n",
    "df_PA_NJ_DE_MD = df_PA_NJ_DE_MD[['Year', 'Annual']]\n",
    "df_NORTHEAST = df_NORTHEAST[['Year', 'Annual']]"
   ]
  },
  {
   "cell_type": "code",
   "execution_count": null,
   "metadata": {},
   "outputs": [],
   "source": [
    "#Writing the newly cleaned data to new csv\n",
    "#df_NY.to_csv(\"NY\")\n",
    "#df_SOUTH.to_csv(\"SOUTH\")\n",
    "#df_ATL.to_csv(\"ATL\")\n",
    "#df_VA_MD_WV.to_csv(\"VA-MD-WV\")\n",
    "#df_MID.to_csv(\"MIDWEST\")\n",
    "#df_IL_IN_WI.to_csv(\"IL-IN-WI\")\n",
    "#df_WEST.to_csv(\"WEST\")\n",
    "#df_LOS.to_csv(\"LOS\")\n",
    "#df_SF.to_csv(\"SF\")\n",
    "#df_PA_NJ_DE_MD.to_csv(\"PA-NJ-DE-MD\")\n",
    "#df_NORTHEAST.to_csv(\"NORTHEAST\")"
   ]
  }
 ],
 "metadata": {
  "kernelspec": {
   "display_name": "Python 3 (ipykernel)",
   "language": "python",
   "name": "python3"
  },
  "language_info": {
   "codemirror_mode": {
    "name": "ipython",
    "version": 3
   },
   "file_extension": ".py",
   "mimetype": "text/x-python",
   "name": "python",
   "nbconvert_exporter": "python",
   "pygments_lexer": "ipython3",
   "version": "3.9.7"
  }
 },
 "nbformat": 4,
 "nbformat_minor": 2
}
