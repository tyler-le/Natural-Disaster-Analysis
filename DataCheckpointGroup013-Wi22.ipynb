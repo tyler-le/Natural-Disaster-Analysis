{
 "cells": [
  {
   "cell_type": "markdown",
   "metadata": {},
   "source": [
    "# COGS 108 - Data Checkpoint"
   ]
  },
  {
   "cell_type": "markdown",
   "metadata": {},
   "source": [
    "# Names\n",
    "\n",
    "- Tyler Le\n",
    "- Aditya Tomar\n",
    "- William Lynch\n",
    "- Michael Mao\n",
    "- Natalie Quach"
   ]
  },
  {
   "cell_type": "markdown",
   "metadata": {},
   "source": [
    "<a id='research_question'></a>\n",
    "# Research Question"
   ]
  },
  {
   "cell_type": "markdown",
   "metadata": {},
   "source": [
    "*Fill in your research question here*"
   ]
  },
  {
   "cell_type": "markdown",
   "metadata": {},
   "source": [
    "# Dataset(s)"
   ]
  },
  {
   "cell_type": "markdown",
   "metadata": {},
   "source": [
    "*Fill in your dataset information here*\n",
    "\n",
    "(Copy this information for each dataset)\n",
    "- Dataset Name:\n",
    "- Link to the dataset:\n",
    "- Number of observations:\n",
    "\n",
    "1-2 sentences describing each dataset. \n",
    "\n",
    "This dataset contains all federally declared natural disasters from 1953-2022 (by year, state, county, and type) along with declared recovery programs. Each observation contains the type of natural disaster, when it occurred, and the state/county it occured in.\n",
    "\n",
    "\n",
    "**3. National Risk Index (NRI)**\n",
    "- Dataset Name: National Risk Index per County (NRI_Table_Counties.csv)\n",
    "- Link to the dataset: https://hazards.fema.gov/nri/data-resources#csvDownload\n",
    "- Number of observations: 3142\n",
    "- Number of features: 365. Contains a combination of numerical and string data types.\n",
    "\n",
    "Dataset from FEMA that identifies counties and states most at risk to 18 natural hazards. Includes data about expected annual losses from natural hazards, social vulnerability and community resilience. \n",
    "\n",
    "**4. States with Coastline**\n",
    "- Dataset Name: States with Coastline (states_with_coastline.csv)\n",
    "- Link to the dataset: https://worldpopulationreview.com/state-rankings/coastal-states\n",
    "- Number of observations: 50\n",
    "- Number of features: 2. Contains string data types.\n",
    "\n",
    "This dataset contains whether or not each state in the United States has a coast. Each observation contains a state and its associated coast.\n",
    "\n",
    "\n",
    "**5. Cost of Living**\n",
    "- Dataset Name: Cost of Living (cost_of_living.csv)\n",
    "- Link to the dataset: https://advisorsmith.com/wp-content/uploads/2021/02/advisorsmith_cost_of_living_index.csv\n",
    "- Number of observations: 510\n",
    "- Number of features: 3. Contains numerical and string data types.\n",
    "\n",
    "Each observation in this dataset contains a state, the city associated with the state, and the Cost of Living Index. The Cost of Living Index measures the costs such as food and energy.\n",
    "\n",
    "**6. Climate**\n",
    "- Average Climate by County (Average_Climate_By_County.csv)\n",
    "- https://www.ncdc.noaa.gov/cag/county/mapping\n",
    "- Number of observations: 3137\n",
    "- Number of features: 3. Contains a combination of numerical and string types.\n",
    "\n",
    "This dataset contains the mean climate over a 5-year span from 2017 to 2022 for all counties in the USA except those in Hawaii. The climate is measured in Fahrenheit. This dataset is for comparing the correlation between natural disasters vs cost of living with climate vs cost of living because climate is a potential confounding variable that affects cost of living.\n",
    "\n"
   ]
  },
  {
   "cell_type": "markdown",
   "metadata": {},
   "source": [
    "# Setup"
   ]
  },
  {
   "cell_type": "code",
   "execution_count": 3,
   "metadata": {},
   "outputs": [
    {
     "ename": "ModuleNotFoundError",
     "evalue": "No module named 'geopy'",
     "output_type": "error",
     "traceback": [
      "\u001b[0;31m---------------------------------------------------------------------------\u001b[0m",
      "\u001b[0;31mModuleNotFoundError\u001b[0m                       Traceback (most recent call last)",
      "Input \u001b[0;32mIn [3]\u001b[0m, in \u001b[0;36m<module>\u001b[0;34m\u001b[0m\n\u001b[1;32m      1\u001b[0m \u001b[38;5;28;01mimport\u001b[39;00m \u001b[38;5;21;01mpandas\u001b[39;00m \u001b[38;5;28;01mas\u001b[39;00m \u001b[38;5;21;01mpd\u001b[39;00m\n\u001b[1;32m      2\u001b[0m \u001b[38;5;28;01mimport\u001b[39;00m \u001b[38;5;21;01mnumpy\u001b[39;00m \u001b[38;5;28;01mas\u001b[39;00m \u001b[38;5;21;01mnp\u001b[39;00m\n\u001b[0;32m----> 3\u001b[0m \u001b[38;5;28;01mfrom\u001b[39;00m \u001b[38;5;21;01mgeopy\u001b[39;00m\u001b[38;5;21;01m.\u001b[39;00m\u001b[38;5;21;01mgeocoders\u001b[39;00m \u001b[38;5;28;01mimport\u001b[39;00m Nominatim\n",
      "\u001b[0;31mModuleNotFoundError\u001b[0m: No module named 'geopy'"
     ]
    }
   ],
   "source": [
    "import pandas as pd\n",
    "import numpy as np\n",
    "from geopy.geocoders import Nominatim"
   ]
  },
  {
   "cell_type": "markdown",
   "metadata": {},
   "source": [
    "# Data Cleaning"
   ]
  },
  {
   "cell_type": "markdown",
   "metadata": {},
   "source": [
    "**Table #1 (Frequency of Disaster By State):** This dataset was fairly clean in that there were no missing values and each observation contains whether or not a state had a natural disaster event in a certain year. We decided to remove spaces from the column names and to replace them with underscores. Since each column describing a natural disaster contains the count of how many natural disasters of that type, there was little data cleaning needed for this dataset.\n",
    "\n",
    "**Table #2 (Types of Disasters By State/County):** This dataset was fairly clean. We first focused on extracting the relevant columns, which were \"state\", \"declarationType\", \"incidentType\", \"declarationTitle\", and \"declarationArea\". These were the relevant variables since we want each state, the type of natural disaster, and whether it occured on a county level or not. We filtered the dataset to only contain natural disasters that occurred at the county level and standardized the column. We decided to keep the year it happened rather than the exact month and day since in our EDA in the future we would like to explore the natural disaster frequencies by decade. To make future analyses more convienient, we renamed some of the column names. Also, we checked for missing values and found that there were none. \n",
    "\n",
    "**Table #3 (National Risk Index):** This dataset was fairly clean. We focused on extracting the relevant columns, such as county, population size, National Risk Index score, and expected annual loss. These variables are important because we would like to compare counties per capita. We also decided to lowercase all the columns and replace spaces with underscores for consistency across all dataframes.\n",
    "\n",
    "**Table #4 (States with Coastline):** This dataset was fairly clean. Originally, each observation in this dataset contained a state and its associated coast. If the state did not have a coast associated, it had a value \"None\". To aid with future analyses, such as fitting multiple linear regression models later on, we changed the \"coast\" column to be binary where 0 means that a state does not have a coast associated with it and 1 means that a state does have a coast associated with it.\n",
    "\n",
    "**Table #6 (Average Climate by County)**\n",
    "This dataset was very clean. All that we needed to change was remove ID numbers after the state abbreviations and change the column names from \"Location ID\" to \"State\", \"Location\" to \"County\", and \"Value\" to \"Temperature (F)\". \n",
    "\n"
   ]
  },
  {
   "cell_type": "markdown",
   "metadata": {},
   "source": [
    "## Clean Table #1 (Frequency of Disaster By State)"
   ]
  },
  {
   "cell_type": "code",
   "execution_count": null,
   "metadata": {},
   "outputs": [],
   "source": [
    "freq_df = pd.read_csv('datasets/natural_disaster_frequencies.csv')\n",
    "\n",
    "# replace space with underscores in column names\n",
    "freq_df.columns = freq_df.columns.str.replace(' ', '_')\n",
    "\n",
    "# check for NaNs\n",
    "assert(freq_df.isna().sum().sum() == 0)\n",
    "\n",
    "freq_df"
   ]
  },
  {
   "cell_type": "markdown",
   "metadata": {},
   "source": [
    "## Clean Table #2 (Types of Disaster By State/County)"
   ]
  },
  {
   "cell_type": "code",
   "execution_count": null,
   "metadata": {},
   "outputs": [],
   "source": [
    "def standardize_county(str_in):\n",
    "    try:\n",
    "        if '(County)' in str_in:\n",
    "            output = str_in.replace('(County)','')\n",
    "        else:\n",
    "            output = None\n",
    "    except: \n",
    "        output = None\n",
    "\n",
    "    return output\n",
    "\n",
    "\n",
    "def standardize_year(str_in):\n",
    "    try:\n",
    "        output = str_in.split('T')[0]\n",
    "        output = pd.to_datetime(str_in).year\n",
    "    except:\n",
    "        output = None\n",
    "        \n",
    "    return output"
   ]
  },
  {
   "cell_type": "code",
   "execution_count": 73,
   "metadata": {},
   "outputs": [
    {
     "data": {
      "text/plain": [
       "444"
      ]
     },
     "execution_count": 73,
     "metadata": {},
     "output_type": "execute_result"
    }
   ],
   "source": [
    "df['County'] = new_counties\n",
    "county = df.pop('County')\n",
    "df.insert(1,'County',county)\n",
    "df.County.str.count(\"County\").sum()"
   ]
  },
  {
   "cell_type": "code",
   "execution_count": 71,
   "metadata": {},
   "outputs": [
    {
     "data": {
      "text/html": [
       "<div>\n",
       "<style scoped>\n",
       "    .dataframe tbody tr th:only-of-type {\n",
       "        vertical-align: middle;\n",
       "    }\n",
       "\n",
       "    .dataframe tbody tr th {\n",
       "        vertical-align: top;\n",
       "    }\n",
       "\n",
       "    .dataframe thead th {\n",
       "        text-align: right;\n",
       "    }\n",
       "</style>\n",
       "<table border=\"1\" class=\"dataframe\">\n",
       "  <thead>\n",
       "    <tr style=\"text-align: right;\">\n",
       "      <th></th>\n",
       "      <th>City</th>\n",
       "      <th>County</th>\n",
       "      <th>State</th>\n",
       "      <th>Cost of Living Index</th>\n",
       "    </tr>\n",
       "  </thead>\n",
       "  <tbody>\n",
       "    <tr>\n",
       "      <th>0</th>\n",
       "      <td>Abilene</td>\n",
       "      <td>Taylor County</td>\n",
       "      <td>TEXAS</td>\n",
       "      <td>89.1</td>\n",
       "    </tr>\n",
       "    <tr>\n",
       "      <th>1</th>\n",
       "      <td>Adrian</td>\n",
       "      <td>Lenawee County</td>\n",
       "      <td>MICHIGAN</td>\n",
       "      <td>90.5</td>\n",
       "    </tr>\n",
       "    <tr>\n",
       "      <th>2</th>\n",
       "      <td>Akron</td>\n",
       "      <td>Summit County</td>\n",
       "      <td>OHIO</td>\n",
       "      <td>89.4</td>\n",
       "    </tr>\n",
       "    <tr>\n",
       "      <th>3</th>\n",
       "      <td>Alamogordo</td>\n",
       "      <td>Otero County</td>\n",
       "      <td>NEW MEXICO</td>\n",
       "      <td>85.8</td>\n",
       "    </tr>\n",
       "    <tr>\n",
       "      <th>4</th>\n",
       "      <td>Albany</td>\n",
       "      <td>Dougherty County</td>\n",
       "      <td>GEORGIA</td>\n",
       "      <td>87.3</td>\n",
       "    </tr>\n",
       "    <tr>\n",
       "      <th>...</th>\n",
       "      <td>...</td>\n",
       "      <td>...</td>\n",
       "      <td>...</td>\n",
       "      <td>...</td>\n",
       "    </tr>\n",
       "    <tr>\n",
       "      <th>505</th>\n",
       "      <td>Wheeling</td>\n",
       "      <td>1528</td>\n",
       "      <td>WEST VIRGINIA</td>\n",
       "      <td>84.1</td>\n",
       "    </tr>\n",
       "    <tr>\n",
       "      <th>506</th>\n",
       "      <td>New London</td>\n",
       "      <td>New London County</td>\n",
       "      <td>CONNECTICUT</td>\n",
       "      <td>105.9</td>\n",
       "    </tr>\n",
       "    <tr>\n",
       "      <th>507</th>\n",
       "      <td>Daphne</td>\n",
       "      <td>Baldwin County</td>\n",
       "      <td>ALABAMA</td>\n",
       "      <td>96.6</td>\n",
       "    </tr>\n",
       "    <tr>\n",
       "      <th>508</th>\n",
       "      <td>Victoria</td>\n",
       "      <td>Texas</td>\n",
       "      <td>TEXAS</td>\n",
       "      <td>89.5</td>\n",
       "    </tr>\n",
       "    <tr>\n",
       "      <th>509</th>\n",
       "      <td>Aberdeen</td>\n",
       "      <td>Grays Harbor County</td>\n",
       "      <td>WASHINGTON</td>\n",
       "      <td>97.6</td>\n",
       "    </tr>\n",
       "  </tbody>\n",
       "</table>\n",
       "<p>510 rows × 4 columns</p>\n",
       "</div>"
      ],
      "text/plain": [
       "           City               County          State  Cost of Living Index\n",
       "0       Abilene        Taylor County          TEXAS                  89.1\n",
       "1        Adrian       Lenawee County       MICHIGAN                  90.5\n",
       "2         Akron        Summit County           OHIO                  89.4\n",
       "3    Alamogordo         Otero County     NEW MEXICO                  85.8\n",
       "4        Albany     Dougherty County        GEORGIA                  87.3\n",
       "..          ...                  ...            ...                   ...\n",
       "505    Wheeling                 1528  WEST VIRGINIA                  84.1\n",
       "506  New London    New London County    CONNECTICUT                 105.9\n",
       "507      Daphne       Baldwin County        ALABAMA                  96.6\n",
       "508    Victoria                Texas          TEXAS                  89.5\n",
       "509    Aberdeen  Grays Harbor County     WASHINGTON                  97.6\n",
       "\n",
       "[510 rows x 4 columns]"
      ]
     },
     "execution_count": 71,
     "metadata": {},
     "output_type": "execute_result"
    }
   ],
   "source": [
    "df"
   ]
  },
  {
   "cell_type": "code",
   "execution_count": 74,
   "metadata": {},
   "outputs": [
    {
     "data": {
      "text/plain": [
       "Location(Victoria County, Texas, United States, (28.8026443, -96.9766308, 0.0))"
      ]
     },
     "execution_count": 74,
     "metadata": {},
     "output_type": "execute_result"
    }
   ],
   "source": [
    "#Dataset for the mean climate for each county in the USA except those in Hawaii. The climate is measured over a 5-year span from 2017-2022. \n",
    "climate_df = pd.read_csv('datasets/Average_Climate_By_County.csv')\n",
    "climate_df['Location ID'] = climate_df['Location ID'].apply([lambda x: x[0:2]])\n",
    "climate_df = climate_df.rename(columns={'Location ID': 'State', 'Location': 'County', 'Value': 'Temperature (F)'})\n",
    "climate_df"
   ]
  }
 ],
 "metadata": {
  "kernelspec": {
   "display_name": "Python 3 (ipykernel)",
   "language": "python",
   "name": "python3"
  },
  "language_info": {
   "codemirror_mode": {
    "name": "ipython",
    "version": 3
   },
   "file_extension": ".py",
   "mimetype": "text/x-python",
   "name": "python",
   "nbconvert_exporter": "python",
   "pygments_lexer": "ipython3",
   "version": "3.9.7"
  }
 },
 "nbformat": 4,
 "nbformat_minor": 2
}
