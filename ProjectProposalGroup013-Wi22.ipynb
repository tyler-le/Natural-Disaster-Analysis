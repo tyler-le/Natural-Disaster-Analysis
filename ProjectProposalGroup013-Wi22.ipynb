{
 "cells": [
  {
   "cell_type": "markdown",
   "metadata": {},
   "source": [
    "# COGS 108 - Final Project Proposal"
   ]
  },
  {
   "cell_type": "markdown",
   "metadata": {},
   "source": [
    "# Names\n",
    "\n",
    "- Tyler Le\n",
    "- Aditya Tomar\n",
    "- William Lynch\n",
    "- Michael Mao\n",
    "- Natalie Quach"
   ]
  },
  {
   "cell_type": "markdown",
   "metadata": {},
   "source": [
    "# Research Question"
   ]
  },
  {
   "cell_type": "markdown",
   "metadata": {},
   "source": [
    "Is there a positive correlation between the cost of living and the impact of natural disasters in terms of injuries, casualties, and private property per capita? Which state does the impact of natural disasters affect cost of living the most? Furthermore, which US state is the safest from major natural disasters based on these factors?"
   ]
  },
  {
   "cell_type": "markdown",
   "metadata": {},
   "source": [
    "## Background and Prior Work"
   ]
  },
  {
   "cell_type": "markdown",
   "metadata": {},
   "source": [
    "Every year, natural disasters strike cities across the United States, injuring and killing civilians and causing millions of dollars worth of private property and infrastructure damage. For example, in 2021 the United States experienced 20 natural disaster events with losses of more than one billion dollars<sup><b><font color=\"blue\">[1]</font></b></sup>. It seems like the current news is always reporting on wildfires on the West Coast, hurricanes in the South and East, and tornadoes in the Midwest. Is there any state in America that is safe from natural disasters?  Despite these disasters, are people still not swayed to live there? Is there any correlation between how safe a state is in terms of natural disasters and its cost of living? That is what our group is interested in figuring out. \n",
    "\n",
    "There have been many studies done in the past to answer the same question, yet there is still much debate over the answer and even controversy regarding various studies’ data analysis. An article written by the U.S. Bureau of Labor Statistics concluded that areas hit with severe disasters increased outmigration, lower home prices, and higher poverty rates due to the fact that there is lower demand to live in the area (which leads to lower rent)<sup><b><font color=\"blue\">[2]</font></b></sup>. The Federal Emergency Management Agency (FEMA) created a risk map that shows that the Northern states are generally safer<sup><b><font color=\"blue\">[3]</font></b></sup> but use potentially subjective and biased metrics such as “Social Vulnerability” and “Community Resilience” as part of their risk calculation. With our data, we want to conduct a standardized analysis that takes into account all confounding variables such as disaster severity discrepancies as well as population per capita and property value disparities to figure out once and for all which state is the safest from natural disasters.  We also want to analyze whether or not the impact of natural disasters and a state’s cost of living are correlated, which will determine how cost-effective it would be to move to each state.\n",
    "\n",
    "1. https://worldpopulationreview.com/state-rankings/cost-of-living-index-by-state \n",
    "2. https://www.bls.gov/opub/mlr/2017/beyond-bls/the-effect-of-natural-disasters-on-local-economies.htm\n",
    "3. https://hazards.fema.gov/nri/map# "
   ]
  },
  {
   "cell_type": "markdown",
   "metadata": {},
   "source": [
    "# Hypothesis\n"
   ]
  },
  {
   "cell_type": "markdown",
   "metadata": {},
   "source": [
    "We hypothesize that there is a negative correlation between natural disaster and cost of living. We believe the cost of rebuilding, aid, FINISH LATER\n",
    "\n",
    "We hypothesize that natural disasters will have a slight effect on cost of living, but not as large of an effect as other factors; such as proximity to the coast. For example, California is considered unsafe in terms of natural disasters but its cost of living remains high.\n",
    "\n"
   ]
  },
  {
   "cell_type": "markdown",
   "metadata": {},
   "source": [
    "# Data"
   ]
  },
  {
   "cell_type": "markdown",
   "metadata": {},
   "source": [
    "The ideal dataset would be in structured or semi-structured form that contains several decades worth of observations (~2000). Ideally, each observation will give us insight about the frequency, type, and date of each natural disaster, its associated injuries and fatalities, private property damage costs, and the state's overall cost of living. We understand that there will be no single dataset with all this information compiled already, so we expect to wrangle multiple datasets and merge them by state. As a team, we will be collecting data from government organizations such as USGS, NOAA, Red Cross, and FEMA which normally take the form of CSV or JSON."
   ]
  },
  {
   "cell_type": "markdown",
   "metadata": {},
   "source": [
    "# Ethics & Privacy"
   ]
  },
  {
   "cell_type": "markdown",
   "metadata": {},
   "source": [
    "Initially, it’s hard to think of any biases our data can hold since most of it is a purely objective measurement. Our publicly available data will be collected by government agencies and nonprofits so they will come from a reputable source. We strive to be representative of all populations in our analysis but recognize that we may not fully represent all occupants, especially in terms of cost of living. We can remedy this by using the Cost of Living index which is based around the average person in that state. This way, we can accurately represent most of the state’s population. Furthermore, we understand that there may be a correlation between cost of living and number of natural disasters but we recognize that it may or may not be a definitive cause. If there is a correlation, we will also discuss possible external factors that may contribute more than natural disasters, such as climate, proximity to coast, and job opportunity within a state.\n",
    "\n",
    "Nothing in our data will personally identify any single person but rather summarize something about the entire population of a state. It will be anonymous and unidentifiable. Also, since our datasets are collected by the government and nonprofits (which are updated regularly), there will be fluctuations in our results each year. This allows for an adaptable way to change and update our results. However, we recognize that the geographical location of each state and how they interact with natural disasters is historically fixed, which does not give much room for change in that regard. Therefore, since the data is publicly available and does not personally identify any single person, we do not believe that there will be any privacy or terms of use issues with the data. \n",
    "\n",
    "Lastly, when determining the safest state in terms of natural disasters, we are not implying that this state is safe overall. Of course, there will be many devastating natural disasters in the future and we should not lead people on with the idea that the 'safest state' is completely safe.\n"
   ]
  },
  {
   "cell_type": "markdown",
   "metadata": {},
   "source": [
    "# Team Expectations "
   ]
  },
  {
   "cell_type": "markdown",
   "metadata": {},
   "source": [
    "* *Come to all team meetings unless you've notified other team members of your absence.*\n",
    "* *Be accountable for your tasks, don't do it last minute.*\n",
    "* *Communicate your issues ASAP.*\n",
    "* *Create the highest quality work that you can.*\n",
    "* *Listening to everyone’s opinions and respectfully disagreeing if you have a different opinion*\n",
    "\n",
    "\n"
   ]
  },
  {
   "cell_type": "markdown",
   "metadata": {},
   "source": [
    "# Project Timeline Proposal"
   ]
  },
  {
   "cell_type": "markdown",
   "metadata": {},
   "source": [
    "| Meeting Date  | Meeting Time| Completed Before Meeting  | Discuss at Meeting |\n",
    "|---|---|---|---|\n",
    "| 1/20 (Thursday) |  1 PM | Read & Think about COGS 108 expectations; brainstorm topics/questions  | Determine best form of communication; Discuss and decide on final project topic; discuss hypothesis; begin background research | \n",
    "| 1/26 (Wednesday) |  10 AM |  Do background research on topic | Discuss ideal dataset(s) and ethics; draft project proposal | \n",
    "| 1/28 (Friday) | 6 PM  | Edit, finalize, and submit proposal; Search for datasets  | Discuss Wrangling and possible analytical approaches; Assign group members to lead each specific part   |\n",
    "| 2/11 (Friday) | 11:59 PM  | <b>Checkpoint #1: Data (Everyone)</b>; EDA (Everyone) |    |\n",
    "| 2/14 (Monday) | 6 PM  | Import & Wrangle Data (Everyone); EDA (Everyone) | Review/Edit wrangling/EDA; Discuss Analysis Plan   |\n",
    "| 2/23 (Wednesday) | 12 PM  | Finalize wrangling/EDA; Begin Analysis (Everyone) | Discuss/edit Analysis; Complete project check-in |\n",
    "| 2/25 (Friday) | 11:59 PM  | <b>Checkpoint #2: EDA </b>|   |\n",
    "| 3/13 (Sunday) | 12 PM  | Complete analysis; Draft results/conclusion/discussion (Everyone)| Discuss/edit full project |\n",
    "| 3/14 (Monday)  | Before 11:59 PM  | <b>Final Project Due</b> <br>Video | Turn in Final Project & Group Project Surveys |"
   ]
  }
 ],
 "metadata": {
  "kernelspec": {
   "display_name": "Python 3 (ipykernel)",
   "language": "python",
   "name": "python3"
  },
  "language_info": {
   "codemirror_mode": {
    "name": "ipython",
    "version": 3
   },
   "file_extension": ".py",
   "mimetype": "text/x-python",
   "name": "python",
   "nbconvert_exporter": "python",
   "pygments_lexer": "ipython3",
   "version": "3.9.5"
  }
 },
 "nbformat": 4,
 "nbformat_minor": 2
}
