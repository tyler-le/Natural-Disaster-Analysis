{
 "cells": [
  {
   "cell_type": "markdown",
   "metadata": {},
   "source": [
    "# COGS 108 - Final Project (change this to your project's title)"
   ]
  },
  {
   "cell_type": "code",
   "execution_count": null,
   "metadata": {},
   "outputs": [],
   "source": []
  },
  {
   "cell_type": "markdown",
   "metadata": {},
   "source": [
    "## Permissions\n",
    "\n",
    "Place an `X` in the appropriate bracket below to specify if you would like your group's project to be made available to the public. (Note that student names will be included (but PIDs will be scraped from any groups who include their PIDs).\n",
    "\n",
    "* [  ] YES - make available\n",
    "* [  ] NO - keep private"
   ]
  },
  {
   "cell_type": "markdown",
   "metadata": {},
   "source": [
    "# Overview"
   ]
  },
  {
   "cell_type": "markdown",
   "metadata": {},
   "source": [
    "*Fill in your overview here*"
   ]
  },
  {
   "cell_type": "markdown",
   "metadata": {},
   "source": [
    "# Names\n",
    "\n",
    "- Ant Man\n",
    "- Hulk\n",
    "- Iron Man\n",
    "- Thor\n",
    "- Wasp"
   ]
  },
  {
   "cell_type": "markdown",
   "metadata": {},
   "source": [
    "<a id='research_question'></a>\n",
    "# Research Question"
   ]
  },
  {
   "cell_type": "markdown",
   "metadata": {},
   "source": [
    "*Fill in your research question here*"
   ]
  },
  {
   "cell_type": "markdown",
   "metadata": {},
   "source": [
    "<a id='background'></a>\n",
    "\n",
    "## Background & Prior Work"
   ]
  },
  {
   "cell_type": "markdown",
   "metadata": {},
   "source": [
    "*Fill in your background and prior work here* \n",
    "\n",
    "References (include links):\n",
    "- 1)\n",
    "- 2)"
   ]
  },
  {
   "cell_type": "markdown",
   "metadata": {},
   "source": [
    "# Hypothesis\n"
   ]
  },
  {
   "cell_type": "markdown",
   "metadata": {},
   "source": [
    "*Fill in your hypotheses here*"
   ]
  },
  {
   "cell_type": "markdown",
   "metadata": {},
   "source": [
    "# Dataset(s)"
   ]
  },
  {
   "cell_type": "markdown",
   "metadata": {},
   "source": [
    "*Fill in your dataset information here*\n",
    "\n",
    "(Copy this information for each dataset)\n",
    "- Dataset Name:\n",
    "- Link to the dataset:\n",
    "- Number of observations:\n",
    "\n",
    "1-2 sentences describing each dataset. \n",
    "\n",
    "If you plan to use multiple datasets, add 1-2 sentences about how you plan to combine these datasets."
   ]
  },
  {
   "cell_type": "markdown",
   "metadata": {},
   "source": [
    "# Setup"
   ]
  },
  {
   "cell_type": "code",
   "execution_count": 1,
   "metadata": {},
   "outputs": [],
   "source": [
    "import pandas as pd\n",
    "import numpy as np\n",
    "import seaborn as sns\n",
    "import matplotlib.pyplot as plt\n",
    "import matplotlib.style as style\n",
    "import os\n",
    "from pathlib import Path\n",
    "\n",
    "# converting city to county\n",
    "from geopy.geocoders import Nominatim\n",
    "from geopy.extra.rate_limiter import RateLimiter\n",
    "from tqdm import tqdm # progress bar for .apply()\n",
    "\n",
    "# for choropleth\n",
    "import plotly.express as px\n",
    "\n",
    "# used for choropleth\n",
    "from urllib.request import urlopen\n",
    "import json\n",
    "\n",
    "# filter extra noise from warnings\n",
    "import warnings\n",
    "warnings.filterwarnings('ignore')\n",
    "\n",
    "# Statmodels & patsy\n",
    "import patsy\n",
    "from scipy import stats\n",
    "import statsmodels.api as sm\n",
    "from scipy.stats import pearsonr\n",
    "from scipy.stats import boxcox\n",
    "from scipy.stats import powerlognorm\n",
    "# Make plots just slightly bigger for displaying well in notebook\n",
    "plt.rcParams['figure.figsize'] = (10, 5)\n",
    "\n",
    "# Displaying figures as image\n",
    "from IPython.display import Image\n",
    "\n",
    "# used to convert state/county to fips\n",
    "import addfips\n",
    "\n",
    "%config InlineBackend.figure_format ='retina'"
   ]
  },
  {
   "cell_type": "code",
   "execution_count": 2,
   "metadata": {},
   "outputs": [
    {
     "data": {
      "text/html": [
       "<div>\n",
       "<style scoped>\n",
       "    .dataframe tbody tr th:only-of-type {\n",
       "        vertical-align: middle;\n",
       "    }\n",
       "\n",
       "    .dataframe tbody tr th {\n",
       "        vertical-align: top;\n",
       "    }\n",
       "\n",
       "    .dataframe thead th {\n",
       "        text-align: right;\n",
       "    }\n",
       "</style>\n",
       "<table border=\"1\" class=\"dataframe\">\n",
       "  <thead>\n",
       "    <tr style=\"text-align: right;\">\n",
       "      <th></th>\n",
       "      <th>County &amp; State</th>\n",
       "      <th>FIPS</th>\n",
       "      <th>2017</th>\n",
       "      <th>2018</th>\n",
       "      <th>2019</th>\n",
       "      <th>2020</th>\n",
       "      <th>2021</th>\n",
       "    </tr>\n",
       "  </thead>\n",
       "  <tbody>\n",
       "    <tr>\n",
       "      <th>0</th>\n",
       "      <td>Autauga County,  Alabama</td>\n",
       "      <td>1001</td>\n",
       "      <td>145203</td>\n",
       "      <td>144361</td>\n",
       "      <td>153716</td>\n",
       "      <td>160972</td>\n",
       "      <td>166318</td>\n",
       "    </tr>\n",
       "    <tr>\n",
       "      <th>1</th>\n",
       "      <td>Baldwin County,  Alabama</td>\n",
       "      <td>1003</td>\n",
       "      <td>185313</td>\n",
       "      <td>205764</td>\n",
       "      <td>209494</td>\n",
       "      <td>232730</td>\n",
       "      <td>243643</td>\n",
       "    </tr>\n",
       "    <tr>\n",
       "      <th>2</th>\n",
       "      <td>Barbour County,  Alabama</td>\n",
       "      <td>1005</td>\n",
       "      <td>97533</td>\n",
       "      <td>91965</td>\n",
       "      <td>100423</td>\n",
       "      <td>94615</td>\n",
       "      <td>99052</td>\n",
       "    </tr>\n",
       "    <tr>\n",
       "      <th>3</th>\n",
       "      <td>Bibb County,  Alabama</td>\n",
       "      <td>1007</td>\n",
       "      <td>116052</td>\n",
       "      <td>110683</td>\n",
       "      <td>101799</td>\n",
       "      <td>97807</td>\n",
       "      <td>102324</td>\n",
       "    </tr>\n",
       "    <tr>\n",
       "      <th>4</th>\n",
       "      <td>Blount County,  Alabama</td>\n",
       "      <td>1009</td>\n",
       "      <td>135375</td>\n",
       "      <td>128203</td>\n",
       "      <td>131548</td>\n",
       "      <td>134696</td>\n",
       "      <td>140916</td>\n",
       "    </tr>\n",
       "  </tbody>\n",
       "</table>\n",
       "</div>"
      ],
      "text/plain": [
       "             County & State  FIPS    2017    2018    2019    2020    2021\n",
       "0  Autauga County,  Alabama  1001  145203  144361  153716  160972  166318\n",
       "1  Baldwin County,  Alabama  1003  185313  205764  209494  232730  243643\n",
       "2  Barbour County,  Alabama  1005   97533   91965  100423   94615   99052\n",
       "3     Bibb County,  Alabama  1007  116052  110683  101799   97807  102324\n",
       "4   Blount County,  Alabama  1009  135375  128203  131548  134696  140916"
      ]
     },
     "execution_count": 2,
     "metadata": {},
     "output_type": "execute_result"
    }
   ],
   "source": [
    "#import housing dataset\n",
    "housing_df = pd.read_csv(\"datasets/cleaned/NewHousingPrices2017-2021.csv\")\n",
    "housing_df.head()"
   ]
  },
  {
   "cell_type": "code",
   "execution_count": 3,
   "metadata": {},
   "outputs": [
    {
     "data": {
      "text/html": [
       "<div>\n",
       "<style scoped>\n",
       "    .dataframe tbody tr th:only-of-type {\n",
       "        vertical-align: middle;\n",
       "    }\n",
       "\n",
       "    .dataframe tbody tr th {\n",
       "        vertical-align: top;\n",
       "    }\n",
       "\n",
       "    .dataframe thead th {\n",
       "        text-align: right;\n",
       "    }\n",
       "</style>\n",
       "<table border=\"1\" class=\"dataframe\">\n",
       "  <thead>\n",
       "    <tr style=\"text-align: right;\">\n",
       "      <th></th>\n",
       "      <th>femaDeclarationString</th>\n",
       "      <th>disasterNumber</th>\n",
       "      <th>state</th>\n",
       "      <th>declarationType</th>\n",
       "      <th>declarationDate</th>\n",
       "      <th>fyDeclared</th>\n",
       "      <th>incidentType</th>\n",
       "      <th>declarationTitle</th>\n",
       "      <th>ihProgramDeclared</th>\n",
       "      <th>iaProgramDeclared</th>\n",
       "      <th>...</th>\n",
       "      <th>incidentEndDate</th>\n",
       "      <th>disasterCloseoutDate</th>\n",
       "      <th>fipsStateCode</th>\n",
       "      <th>fipsCountyCode</th>\n",
       "      <th>placeCode</th>\n",
       "      <th>designatedArea</th>\n",
       "      <th>declarationRequestNumber</th>\n",
       "      <th>hash</th>\n",
       "      <th>lastRefresh</th>\n",
       "      <th>id</th>\n",
       "    </tr>\n",
       "  </thead>\n",
       "  <tbody>\n",
       "    <tr>\n",
       "      <th>0</th>\n",
       "      <td>DR-7-MA</td>\n",
       "      <td>7</td>\n",
       "      <td>MA</td>\n",
       "      <td>DR</td>\n",
       "      <td>1953-06-11T00:00:00.000Z</td>\n",
       "      <td>1953</td>\n",
       "      <td>Tornado</td>\n",
       "      <td>TORNADO</td>\n",
       "      <td>0</td>\n",
       "      <td>1</td>\n",
       "      <td>...</td>\n",
       "      <td>1953-06-11T00:00:00.000Z</td>\n",
       "      <td>1956-06-01T00:00:00.000Z</td>\n",
       "      <td>25</td>\n",
       "      <td>0</td>\n",
       "      <td>0</td>\n",
       "      <td>Statewide</td>\n",
       "      <td>53009</td>\n",
       "      <td>9ef08cfe2ef1a86b8e6a3ec802cafc37c223edf8</td>\n",
       "      <td>2021-07-13T23:01:19.145Z</td>\n",
       "      <td>60c3b7a9a0ee349d71025720</td>\n",
       "    </tr>\n",
       "    <tr>\n",
       "      <th>1</th>\n",
       "      <td>DR-6-MI</td>\n",
       "      <td>6</td>\n",
       "      <td>MI</td>\n",
       "      <td>DR</td>\n",
       "      <td>1953-06-09T00:00:00.000Z</td>\n",
       "      <td>1953</td>\n",
       "      <td>Tornado</td>\n",
       "      <td>TORNADO</td>\n",
       "      <td>0</td>\n",
       "      <td>1</td>\n",
       "      <td>...</td>\n",
       "      <td>1953-06-09T00:00:00.000Z</td>\n",
       "      <td>1956-03-30T00:00:00.000Z</td>\n",
       "      <td>26</td>\n",
       "      <td>0</td>\n",
       "      <td>0</td>\n",
       "      <td>Statewide</td>\n",
       "      <td>53007</td>\n",
       "      <td>fd3377e42a13e063a569a9b6fc25872dbeeaf099</td>\n",
       "      <td>2021-07-13T23:01:19.145Z</td>\n",
       "      <td>60c3b7a9a0ee349d71025766</td>\n",
       "    </tr>\n",
       "    <tr>\n",
       "      <th>2</th>\n",
       "      <td>DR-2-TX</td>\n",
       "      <td>2</td>\n",
       "      <td>TX</td>\n",
       "      <td>DR</td>\n",
       "      <td>1953-05-15T00:00:00.000Z</td>\n",
       "      <td>1953</td>\n",
       "      <td>Tornado</td>\n",
       "      <td>TORNADO &amp; HEAVY RAINFALL</td>\n",
       "      <td>0</td>\n",
       "      <td>1</td>\n",
       "      <td>...</td>\n",
       "      <td>1953-05-15T00:00:00.000Z</td>\n",
       "      <td>1958-01-01T00:00:00.000Z</td>\n",
       "      <td>48</td>\n",
       "      <td>0</td>\n",
       "      <td>0</td>\n",
       "      <td>Statewide</td>\n",
       "      <td>53003</td>\n",
       "      <td>c879557e78d059e6847e7688388c339d10f51979</td>\n",
       "      <td>2021-07-13T23:01:19.145Z</td>\n",
       "      <td>60c3b7a9a0ee349d71025783</td>\n",
       "    </tr>\n",
       "    <tr>\n",
       "      <th>3</th>\n",
       "      <td>DR-4-MI</td>\n",
       "      <td>4</td>\n",
       "      <td>MI</td>\n",
       "      <td>DR</td>\n",
       "      <td>1953-06-02T00:00:00.000Z</td>\n",
       "      <td>1953</td>\n",
       "      <td>Tornado</td>\n",
       "      <td>TORNADO</td>\n",
       "      <td>0</td>\n",
       "      <td>1</td>\n",
       "      <td>...</td>\n",
       "      <td>1953-06-02T00:00:00.000Z</td>\n",
       "      <td>1956-02-01T00:00:00.000Z</td>\n",
       "      <td>26</td>\n",
       "      <td>0</td>\n",
       "      <td>0</td>\n",
       "      <td>Statewide</td>\n",
       "      <td>53004</td>\n",
       "      <td>87a0c1dd5da249767f545e0c0a43f917e4e9ca83</td>\n",
       "      <td>2021-07-13T23:01:19.145Z</td>\n",
       "      <td>60c3b7a9a0ee349d7102577a</td>\n",
       "    </tr>\n",
       "    <tr>\n",
       "      <th>4</th>\n",
       "      <td>DR-1-GA</td>\n",
       "      <td>1</td>\n",
       "      <td>GA</td>\n",
       "      <td>DR</td>\n",
       "      <td>1953-05-02T00:00:00.000Z</td>\n",
       "      <td>1953</td>\n",
       "      <td>Tornado</td>\n",
       "      <td>TORNADO</td>\n",
       "      <td>0</td>\n",
       "      <td>1</td>\n",
       "      <td>...</td>\n",
       "      <td>1953-05-02T00:00:00.000Z</td>\n",
       "      <td>1954-06-01T00:00:00.000Z</td>\n",
       "      <td>13</td>\n",
       "      <td>0</td>\n",
       "      <td>0</td>\n",
       "      <td>Statewide</td>\n",
       "      <td>53013</td>\n",
       "      <td>bb121323c9c29d3bef0c9a3f134bfd8b5ecff148</td>\n",
       "      <td>2021-07-13T23:01:19.144Z</td>\n",
       "      <td>60c3b7a9a0ee349d71025780</td>\n",
       "    </tr>\n",
       "  </tbody>\n",
       "</table>\n",
       "<p>5 rows × 23 columns</p>\n",
       "</div>"
      ],
      "text/plain": [
       "  femaDeclarationString  disasterNumber state declarationType  \\\n",
       "0               DR-7-MA               7    MA              DR   \n",
       "1               DR-6-MI               6    MI              DR   \n",
       "2               DR-2-TX               2    TX              DR   \n",
       "3               DR-4-MI               4    MI              DR   \n",
       "4               DR-1-GA               1    GA              DR   \n",
       "\n",
       "            declarationDate  fyDeclared incidentType  \\\n",
       "0  1953-06-11T00:00:00.000Z        1953      Tornado   \n",
       "1  1953-06-09T00:00:00.000Z        1953      Tornado   \n",
       "2  1953-05-15T00:00:00.000Z        1953      Tornado   \n",
       "3  1953-06-02T00:00:00.000Z        1953      Tornado   \n",
       "4  1953-05-02T00:00:00.000Z        1953      Tornado   \n",
       "\n",
       "           declarationTitle  ihProgramDeclared  iaProgramDeclared  ...  \\\n",
       "0                   TORNADO                  0                  1  ...   \n",
       "1                   TORNADO                  0                  1  ...   \n",
       "2  TORNADO & HEAVY RAINFALL                  0                  1  ...   \n",
       "3                   TORNADO                  0                  1  ...   \n",
       "4                   TORNADO                  0                  1  ...   \n",
       "\n",
       "            incidentEndDate      disasterCloseoutDate fipsStateCode  \\\n",
       "0  1953-06-11T00:00:00.000Z  1956-06-01T00:00:00.000Z            25   \n",
       "1  1953-06-09T00:00:00.000Z  1956-03-30T00:00:00.000Z            26   \n",
       "2  1953-05-15T00:00:00.000Z  1958-01-01T00:00:00.000Z            48   \n",
       "3  1953-06-02T00:00:00.000Z  1956-02-01T00:00:00.000Z            26   \n",
       "4  1953-05-02T00:00:00.000Z  1954-06-01T00:00:00.000Z            13   \n",
       "\n",
       "  fipsCountyCode placeCode  designatedArea  declarationRequestNumber  \\\n",
       "0              0         0       Statewide                     53009   \n",
       "1              0         0       Statewide                     53007   \n",
       "2              0         0       Statewide                     53003   \n",
       "3              0         0       Statewide                     53004   \n",
       "4              0         0       Statewide                     53013   \n",
       "\n",
       "                                       hash               lastRefresh  \\\n",
       "0  9ef08cfe2ef1a86b8e6a3ec802cafc37c223edf8  2021-07-13T23:01:19.145Z   \n",
       "1  fd3377e42a13e063a569a9b6fc25872dbeeaf099  2021-07-13T23:01:19.145Z   \n",
       "2  c879557e78d059e6847e7688388c339d10f51979  2021-07-13T23:01:19.145Z   \n",
       "3  87a0c1dd5da249767f545e0c0a43f917e4e9ca83  2021-07-13T23:01:19.145Z   \n",
       "4  bb121323c9c29d3bef0c9a3f134bfd8b5ecff148  2021-07-13T23:01:19.144Z   \n",
       "\n",
       "                         id  \n",
       "0  60c3b7a9a0ee349d71025720  \n",
       "1  60c3b7a9a0ee349d71025766  \n",
       "2  60c3b7a9a0ee349d71025783  \n",
       "3  60c3b7a9a0ee349d7102577a  \n",
       "4  60c3b7a9a0ee349d71025780  \n",
       "\n",
       "[5 rows x 23 columns]"
      ]
     },
     "execution_count": 3,
     "metadata": {},
     "output_type": "execute_result"
    }
   ],
   "source": [
    "#import disaster dataset\n",
    "disaster_type_df = pd.read_csv('datasets/DisasterDeclarationsSummaries.csv')\n",
    "disaster_type_df.head()"
   ]
  },
  {
   "cell_type": "markdown",
   "metadata": {},
   "source": [
    "# Data Cleaning #11 (Disaster Frequency + Housing Prices)"
   ]
  },
  {
   "cell_type": "markdown",
   "metadata": {},
   "source": [
    "Describe your data cleaning steps here."
   ]
  },
  {
   "cell_type": "code",
   "execution_count": 4,
   "metadata": {},
   "outputs": [
    {
     "data": {
      "text/html": [
       "<div>\n",
       "<style scoped>\n",
       "    .dataframe tbody tr th:only-of-type {\n",
       "        vertical-align: middle;\n",
       "    }\n",
       "\n",
       "    .dataframe tbody tr th {\n",
       "        vertical-align: top;\n",
       "    }\n",
       "\n",
       "    .dataframe thead th {\n",
       "        text-align: right;\n",
       "    }\n",
       "</style>\n",
       "<table border=\"1\" class=\"dataframe\">\n",
       "  <thead>\n",
       "    <tr style=\"text-align: right;\">\n",
       "      <th></th>\n",
       "      <th>County &amp; State</th>\n",
       "      <th>fips</th>\n",
       "      <th>Average_HP</th>\n",
       "    </tr>\n",
       "  </thead>\n",
       "  <tbody>\n",
       "    <tr>\n",
       "      <th>0</th>\n",
       "      <td>Autauga County,  Alabama</td>\n",
       "      <td>01001</td>\n",
       "      <td>160335.333333</td>\n",
       "    </tr>\n",
       "    <tr>\n",
       "      <th>1</th>\n",
       "      <td>Baldwin County,  Alabama</td>\n",
       "      <td>01003</td>\n",
       "      <td>228622.333333</td>\n",
       "    </tr>\n",
       "    <tr>\n",
       "      <th>2</th>\n",
       "      <td>Barbour County,  Alabama</td>\n",
       "      <td>01005</td>\n",
       "      <td>98030.000000</td>\n",
       "    </tr>\n",
       "    <tr>\n",
       "      <th>3</th>\n",
       "      <td>Bibb County,  Alabama</td>\n",
       "      <td>01007</td>\n",
       "      <td>100643.333333</td>\n",
       "    </tr>\n",
       "    <tr>\n",
       "      <th>4</th>\n",
       "      <td>Blount County,  Alabama</td>\n",
       "      <td>01009</td>\n",
       "      <td>135720.000000</td>\n",
       "    </tr>\n",
       "  </tbody>\n",
       "</table>\n",
       "</div>"
      ],
      "text/plain": [
       "             County & State   fips     Average_HP\n",
       "0  Autauga County,  Alabama  01001  160335.333333\n",
       "1  Baldwin County,  Alabama  01003  228622.333333\n",
       "2  Barbour County,  Alabama  01005   98030.000000\n",
       "3     Bibb County,  Alabama  01007  100643.333333\n",
       "4   Blount County,  Alabama  01009  135720.000000"
      ]
     },
     "execution_count": 4,
     "metadata": {},
     "output_type": "execute_result"
    }
   ],
   "source": [
    "#Calculates mean of quarters for each year of housing price through 2017-2021\n",
    "housing_df['Average_HP'] = housing_df.iloc[:,4:].mean(axis=1)\n",
    "new_cols = ['County & State','FIPS','Average_HP']\n",
    "housing_df = housing_df.reindex(columns=new_cols)\n",
    "\n",
    "#Add the leading zeros back in to FIPS\n",
    "housing_df['FIPS'] = housing_df['FIPS'].apply(lambda x: str(x))\n",
    "housing_df['FIPS'] = housing_df['FIPS'].apply(lambda x: x.zfill(5))\n",
    "\n",
    "#make the name lower case to match other dataset\n",
    "housing_df = housing_df.rename(columns={'FIPS' : 'fips'})\n",
    "housing_df.head()"
   ]
  },
  {
   "cell_type": "code",
   "execution_count": 5,
   "metadata": {},
   "outputs": [],
   "source": [
    "def standardize_county(str_in):\n",
    "    try:\n",
    "        if '(County)' in str_in:\n",
    "            output = str_in.replace('(County)','')\n",
    "        elif '(Borough)' in str_in:\n",
    "            output = str_in.replace('(Borough)','')\n",
    "        elif '(Census Subarea)'in str_in:\n",
    "            output = str_in.replace('(Census Subarea)','')\n",
    "        elif '(Parish)'in str_in:\n",
    "            output = str_in.replace('(Parish)','')\n",
    "        else:\n",
    "            output = None\n",
    "    except: \n",
    "        output = None\n",
    "\n",
    "    return output\n",
    "\n",
    "\n",
    "def standardize_year(str_in):\n",
    "    try:\n",
    "        output = str_in.split('T')[0]\n",
    "        output = pd.to_datetime(str_in).year\n",
    "    except:\n",
    "        output = None\n",
    "        \n",
    "    return output"
   ]
  },
  {
   "cell_type": "code",
   "execution_count": 6,
   "metadata": {},
   "outputs": [
    {
     "data": {
      "text/html": [
       "<div>\n",
       "<style scoped>\n",
       "    .dataframe tbody tr th:only-of-type {\n",
       "        vertical-align: middle;\n",
       "    }\n",
       "\n",
       "    .dataframe tbody tr th {\n",
       "        vertical-align: top;\n",
       "    }\n",
       "\n",
       "    .dataframe thead th {\n",
       "        text-align: right;\n",
       "    }\n",
       "</style>\n",
       "<table border=\"1\" class=\"dataframe\">\n",
       "  <thead>\n",
       "    <tr style=\"text-align: right;\">\n",
       "      <th></th>\n",
       "      <th>state</th>\n",
       "      <th>year</th>\n",
       "      <th>disaster_type</th>\n",
       "      <th>disaster_declaration</th>\n",
       "      <th>county</th>\n",
       "    </tr>\n",
       "  </thead>\n",
       "  <tbody>\n",
       "    <tr>\n",
       "      <th>0</th>\n",
       "      <td>IN</td>\n",
       "      <td>1959</td>\n",
       "      <td>Flood</td>\n",
       "      <td>FLOOD</td>\n",
       "      <td>Clay</td>\n",
       "    </tr>\n",
       "    <tr>\n",
       "      <th>1</th>\n",
       "      <td>WA</td>\n",
       "      <td>1964</td>\n",
       "      <td>Flood</td>\n",
       "      <td>HEAVY RAINS &amp; FLOODING</td>\n",
       "      <td>Wahkiakum</td>\n",
       "    </tr>\n",
       "    <tr>\n",
       "      <th>2</th>\n",
       "      <td>WA</td>\n",
       "      <td>1964</td>\n",
       "      <td>Flood</td>\n",
       "      <td>HEAVY RAINS &amp; FLOODING</td>\n",
       "      <td>Skamania</td>\n",
       "    </tr>\n",
       "    <tr>\n",
       "      <th>3</th>\n",
       "      <td>WA</td>\n",
       "      <td>1964</td>\n",
       "      <td>Flood</td>\n",
       "      <td>HEAVY RAINS &amp; FLOODING</td>\n",
       "      <td>Pierce</td>\n",
       "    </tr>\n",
       "    <tr>\n",
       "      <th>4</th>\n",
       "      <td>WA</td>\n",
       "      <td>1964</td>\n",
       "      <td>Flood</td>\n",
       "      <td>HEAVY RAINS &amp; FLOODING</td>\n",
       "      <td>Pacific</td>\n",
       "    </tr>\n",
       "  </tbody>\n",
       "</table>\n",
       "</div>"
      ],
      "text/plain": [
       "  state  year disaster_type    disaster_declaration      county\n",
       "0    IN  1959         Flood                   FLOOD       Clay \n",
       "1    WA  1964         Flood  HEAVY RAINS & FLOODING  Wahkiakum \n",
       "2    WA  1964         Flood  HEAVY RAINS & FLOODING   Skamania \n",
       "3    WA  1964         Flood  HEAVY RAINS & FLOODING     Pierce \n",
       "4    WA  1964         Flood  HEAVY RAINS & FLOODING    Pacific "
      ]
     },
     "execution_count": 6,
     "metadata": {},
     "output_type": "execute_result"
    }
   ],
   "source": [
    "disaster_type_df = pd.read_csv('datasets/DisasterDeclarationsSummaries.csv')\n",
    "\n",
    "# select a subset of the columns\n",
    "wanted_columns = ['state', 'declarationDate','incidentType','declarationTitle','designatedArea']\n",
    "\n",
    "# rename the columns\n",
    "disaster_type_df = disaster_type_df[wanted_columns].rename(columns={\"declarationDate\":\"year\", \"designatedArea\": \"county\", \"incidentType\":\"disaster_type\", \"declarationTitle\":\"disaster_declaration\"})\n",
    "\n",
    "# Set \"Statewide\" to None and strip \"(County)\" from all counties\n",
    "disaster_type_df['county'] = disaster_type_df['county'].apply(standardize_county)\n",
    "\n",
    "# filter dataset to only include non-null \n",
    "disaster_type_df = disaster_type_df[~disaster_type_df['county'].isnull()]\n",
    "\n",
    "# strip year column to only include year\n",
    "disaster_type_df['year'] = disaster_type_df['year'].apply(standardize_year)\n",
    "\n",
    "# sort by year\n",
    "disaster_type_df = disaster_type_df.sort_values('year').reset_index(drop = True)\n",
    "\n",
    "# check for no NaNs\n",
    "assert(disaster_type_df.isna().sum().sum() == 0)\n",
    "\n",
    "disaster_type_df.head()"
   ]
  },
  {
   "cell_type": "code",
   "execution_count": 7,
   "metadata": {},
   "outputs": [],
   "source": [
    "#a dictinary for translating state abbrevs to the state whole name\n",
    "state_abv = {'AK': 'Alaska','AL': 'Alabama','AR': 'Arkansas','AZ': 'Arizona','CA': 'California','CO': 'Colorado',\n",
    "             'CT': 'Connecticut','DE': 'Delaware','FL': 'Florida','GA': 'Georgia','HI': 'Hawaii','IA': 'Iowa',\n",
    "             'ID': 'Idaho','IL': 'Illinois','IN': 'Indiana','KS': 'Kansas','KY': 'Kentucky','LA': 'Louisiana',\n",
    "             'MA': 'Massachusetts','MD': 'Maryland','ME': 'Maine','MI': 'Michigan','MN': 'Minnesota',\n",
    "             'MO': 'Missouri','MS': 'Mississippi','MT': 'Montana','NC': 'North Carolina','ND': 'North Dakota',\n",
    "             'NE': 'Nebraska','NH': 'New Hampshire','NJ': 'New Jersey','NM': 'New Mexico','NV': 'Nevada',\n",
    "             'NY': 'New York','OH': 'Ohio','OK': 'Oklahoma','OR': 'Oregon','PA': 'Pennsylvania',\n",
    "            'RI': 'Rhode Island','SC': 'South Carolina','SD': 'South Dakota','TN': 'Tennessee',\n",
    "             'TX': 'Texas','UT': 'Utah','VA': 'Virginia','VT': 'Vermont','WA': 'Washington',\n",
    "             'WI': 'Wisconsin','WV': 'West Virginia','WY': 'Wyoming'\n",
    "                    }\n",
    "#setting the state name from abv\n",
    "disaster_type_df['state'] = disaster_type_df['state'].map(state_abv)\n",
    "\n",
    "#we want to remove man made disasters from the dataset\n",
    "values = ['Biological', 'Human Cause', 'Fishing Losses', 'Terrorist', 'Other','Dam/Levee Break', 'Toxic Substances']\n",
    "disaster_type_df = disaster_type_df[~(disaster_type_df['disaster_type'].isin(values))]\n",
    "disaster_type_df['disaster_type'].unique()\n",
    "\n",
    "#we only want the years after 2017 to match our housing price data\n",
    "dfrq_df = disaster_type_df[disaster_type_df['year'] >= 2017].reset_index(drop=True)"
   ]
  },
  {
   "cell_type": "code",
   "execution_count": 8,
   "metadata": {},
   "outputs": [
    {
     "name": "stderr",
     "output_type": "stream",
     "text": [
      "100%|█████████████████████████████████████████████████████████████| 7584/7584 [00:00<00:00, 64391.25it/s]\n"
     ]
    },
    {
     "data": {
      "text/html": [
       "<div>\n",
       "<style scoped>\n",
       "    .dataframe tbody tr th:only-of-type {\n",
       "        vertical-align: middle;\n",
       "    }\n",
       "\n",
       "    .dataframe tbody tr th {\n",
       "        vertical-align: top;\n",
       "    }\n",
       "\n",
       "    .dataframe thead th {\n",
       "        text-align: right;\n",
       "    }\n",
       "</style>\n",
       "<table border=\"1\" class=\"dataframe\">\n",
       "  <thead>\n",
       "    <tr style=\"text-align: right;\">\n",
       "      <th></th>\n",
       "      <th>state</th>\n",
       "      <th>year</th>\n",
       "      <th>disaster_type</th>\n",
       "      <th>disaster_declaration</th>\n",
       "      <th>county</th>\n",
       "      <th>fips</th>\n",
       "    </tr>\n",
       "  </thead>\n",
       "  <tbody>\n",
       "    <tr>\n",
       "      <th>0</th>\n",
       "      <td>Georgia</td>\n",
       "      <td>2017</td>\n",
       "      <td>Hurricane</td>\n",
       "      <td>HURRICANE IRMA</td>\n",
       "      <td>Laurens</td>\n",
       "      <td>13175</td>\n",
       "    </tr>\n",
       "    <tr>\n",
       "      <th>1</th>\n",
       "      <td>Georgia</td>\n",
       "      <td>2017</td>\n",
       "      <td>Hurricane</td>\n",
       "      <td>HURRICANE IRMA</td>\n",
       "      <td>Long</td>\n",
       "      <td>13183</td>\n",
       "    </tr>\n",
       "    <tr>\n",
       "      <th>2</th>\n",
       "      <td>Georgia</td>\n",
       "      <td>2017</td>\n",
       "      <td>Hurricane</td>\n",
       "      <td>HURRICANE IRMA</td>\n",
       "      <td>Oconee</td>\n",
       "      <td>13219</td>\n",
       "    </tr>\n",
       "    <tr>\n",
       "      <th>3</th>\n",
       "      <td>Georgia</td>\n",
       "      <td>2017</td>\n",
       "      <td>Hurricane</td>\n",
       "      <td>HURRICANE IRMA</td>\n",
       "      <td>Oglethorpe</td>\n",
       "      <td>13221</td>\n",
       "    </tr>\n",
       "    <tr>\n",
       "      <th>4</th>\n",
       "      <td>Georgia</td>\n",
       "      <td>2017</td>\n",
       "      <td>Hurricane</td>\n",
       "      <td>HURRICANE IRMA</td>\n",
       "      <td>Peach</td>\n",
       "      <td>13225</td>\n",
       "    </tr>\n",
       "  </tbody>\n",
       "</table>\n",
       "</div>"
      ],
      "text/plain": [
       "     state  year disaster_type disaster_declaration       county   fips\n",
       "0  Georgia  2017     Hurricane       HURRICANE IRMA     Laurens   13175\n",
       "1  Georgia  2017     Hurricane       HURRICANE IRMA        Long   13183\n",
       "2  Georgia  2017     Hurricane       HURRICANE IRMA      Oconee   13219\n",
       "3  Georgia  2017     Hurricane       HURRICANE IRMA  Oglethorpe   13221\n",
       "4  Georgia  2017     Hurricane       HURRICANE IRMA       Peach   13225"
      ]
     },
     "execution_count": 8,
     "metadata": {},
     "output_type": "execute_result"
    }
   ],
   "source": [
    "#Here we find and add all the FIPS to the disaster frequency dataset\n",
    "af = addfips.AddFIPS()\n",
    "def find_fips(x):\n",
    "    county = x['county'].strip()\n",
    "    state = x['state'].strip()\n",
    "    fips = af.get_county_fips(county,state=state)\n",
    "    return str(fips)\n",
    "tqdm.pandas()\n",
    "\n",
    "dfrq_df['fips'] = dfrq_df.progress_apply(find_fips,axis=1)\n",
    "\n",
    "dfrq_df.head()"
   ]
  },
  {
   "cell_type": "code",
   "execution_count": 9,
   "metadata": {},
   "outputs": [
    {
     "data": {
      "text/html": [
       "<div>\n",
       "<style scoped>\n",
       "    .dataframe tbody tr th:only-of-type {\n",
       "        vertical-align: middle;\n",
       "    }\n",
       "\n",
       "    .dataframe tbody tr th {\n",
       "        vertical-align: top;\n",
       "    }\n",
       "\n",
       "    .dataframe thead th {\n",
       "        text-align: right;\n",
       "    }\n",
       "</style>\n",
       "<table border=\"1\" class=\"dataframe\">\n",
       "  <thead>\n",
       "    <tr style=\"text-align: right;\">\n",
       "      <th></th>\n",
       "      <th>disaster_count</th>\n",
       "    </tr>\n",
       "    <tr>\n",
       "      <th>fips</th>\n",
       "      <th></th>\n",
       "    </tr>\n",
       "  </thead>\n",
       "  <tbody>\n",
       "    <tr>\n",
       "      <th>None</th>\n",
       "      <td>9.0</td>\n",
       "    </tr>\n",
       "    <tr>\n",
       "      <th>22007</th>\n",
       "      <td>4.0</td>\n",
       "    </tr>\n",
       "    <tr>\n",
       "      <th>22101</th>\n",
       "      <td>3.8</td>\n",
       "    </tr>\n",
       "    <tr>\n",
       "      <th>22045</th>\n",
       "      <td>3.6</td>\n",
       "    </tr>\n",
       "    <tr>\n",
       "      <th>22113</th>\n",
       "      <td>3.6</td>\n",
       "    </tr>\n",
       "  </tbody>\n",
       "</table>\n",
       "</div>"
      ],
      "text/plain": [
       "      disaster_count\n",
       "fips                \n",
       "None             9.0\n",
       "22007            4.0\n",
       "22101            3.8\n",
       "22045            3.6\n",
       "22113            3.6"
      ]
     },
     "execution_count": 9,
     "metadata": {},
     "output_type": "execute_result"
    }
   ],
   "source": [
    "#instead of unique description for each disaster we want a mean for each county over the 5 years, \n",
    "#and add the total disasters per county.\n",
    "df_dcount = dfrq_df[['fips']].value_counts().to_frame()\n",
    "df_dcount = df_dcount.rename(columns={0 : 'disaster_count'})\n",
    "df_dcount['disaster_count']= df_dcount['disaster_count']/5\n",
    "df_dcount['disaster_count'] = df_dcount['disaster_count'].astype(str)\n",
    "\n",
    "df_dcount.head()"
   ]
  },
  {
   "cell_type": "code",
   "execution_count": 10,
   "metadata": {},
   "outputs": [],
   "source": [
    "def standardize_long(location):\n",
    "    try:\n",
    "        output = location.longitude\n",
    "    except:\n",
    "        output = None\n",
    "    return output\n",
    "def standardize_lat(location):\n",
    "    try:\n",
    "        output = location.latitude\n",
    "    except:\n",
    "        output = None\n",
    "    return output\n"
   ]
  },
  {
   "cell_type": "code",
   "execution_count": 11,
   "metadata": {},
   "outputs": [],
   "source": [
    "# WARNING THIS NEXT CELL WILL TAKE A LONG TIME TO RENDER"
   ]
  },
  {
   "cell_type": "code",
   "execution_count": 12,
   "metadata": {},
   "outputs": [
    {
     "name": "stderr",
     "output_type": "stream",
     "text": [
      "  0%|                                                                 | 4/7584 [00:02<1:17:13,  1.64it/s]\n"
     ]
    }
   ],
   "source": [
    "dfrq_df['county_state'] = dfrq_df['county']+\", \" +dfrq_df['state']\n",
    "geolocator = Nominatim(user_agent='find_long_lat')\n",
    "geocode = RateLimiter(geolocator.geocode,min_delay_seconds=1)\n",
    "tqdm.pandas()\n",
    "try:\n",
    "    dfrq_df['geocode'] = dfrq_df['county_state'].progress_apply(geocode)\n",
    "except:\n",
    "    pass"
   ]
  },
  {
   "cell_type": "code",
   "execution_count": 13,
   "metadata": {},
   "outputs": [
    {
     "data": {
      "text/html": [
       "<div>\n",
       "<style scoped>\n",
       "    .dataframe tbody tr th:only-of-type {\n",
       "        vertical-align: middle;\n",
       "    }\n",
       "\n",
       "    .dataframe tbody tr th {\n",
       "        vertical-align: top;\n",
       "    }\n",
       "\n",
       "    .dataframe thead th {\n",
       "        text-align: right;\n",
       "    }\n",
       "</style>\n",
       "<table border=\"1\" class=\"dataframe\">\n",
       "  <thead>\n",
       "    <tr style=\"text-align: right;\">\n",
       "      <th></th>\n",
       "      <th>state</th>\n",
       "      <th>year</th>\n",
       "      <th>disaster_type</th>\n",
       "      <th>disaster_declaration</th>\n",
       "      <th>county</th>\n",
       "      <th>fips</th>\n",
       "      <th>county_state</th>\n",
       "      <th>geocode</th>\n",
       "      <th>long</th>\n",
       "      <th>lat</th>\n",
       "    </tr>\n",
       "  </thead>\n",
       "  <tbody>\n",
       "    <tr>\n",
       "      <th>0</th>\n",
       "      <td>Georgia</td>\n",
       "      <td>2017</td>\n",
       "      <td>Hurricane</td>\n",
       "      <td>HURRICANE IRMA</td>\n",
       "      <td>Laurens County</td>\n",
       "      <td>13175</td>\n",
       "      <td>Laurens County, Georgia</td>\n",
       "      <td>Laurens County, Georgia, United States</td>\n",
       "      <td>-82.938894</td>\n",
       "      <td>32.423997</td>\n",
       "    </tr>\n",
       "    <tr>\n",
       "      <th>1</th>\n",
       "      <td>Georgia</td>\n",
       "      <td>2017</td>\n",
       "      <td>Hurricane</td>\n",
       "      <td>HURRICANE IRMA</td>\n",
       "      <td>Long County</td>\n",
       "      <td>13183</td>\n",
       "      <td>Long County, Georgia</td>\n",
       "      <td>Long County, Georgia, 31316, United States</td>\n",
       "      <td>-81.753725</td>\n",
       "      <td>31.770490</td>\n",
       "    </tr>\n",
       "    <tr>\n",
       "      <th>2</th>\n",
       "      <td>Georgia</td>\n",
       "      <td>2017</td>\n",
       "      <td>Hurricane</td>\n",
       "      <td>HURRICANE IRMA</td>\n",
       "      <td>Oconee County</td>\n",
       "      <td>13219</td>\n",
       "      <td>Oconee County, Georgia</td>\n",
       "      <td>Oconee County, Georgia, United States</td>\n",
       "      <td>-83.427592</td>\n",
       "      <td>33.829579</td>\n",
       "    </tr>\n",
       "    <tr>\n",
       "      <th>3</th>\n",
       "      <td>Georgia</td>\n",
       "      <td>2017</td>\n",
       "      <td>Hurricane</td>\n",
       "      <td>HURRICANE IRMA</td>\n",
       "      <td>Oglethorpe County</td>\n",
       "      <td>13221</td>\n",
       "      <td>Oglethorpe County, Georgia</td>\n",
       "      <td>Oglethorpe County, Georgia, United States</td>\n",
       "      <td>-83.104938</td>\n",
       "      <td>33.870268</td>\n",
       "    </tr>\n",
       "    <tr>\n",
       "      <th>4</th>\n",
       "      <td>Georgia</td>\n",
       "      <td>2017</td>\n",
       "      <td>Hurricane</td>\n",
       "      <td>HURRICANE IRMA</td>\n",
       "      <td>Peach County</td>\n",
       "      <td>13225</td>\n",
       "      <td>Peach County, Georgia</td>\n",
       "      <td>Peach County, Georgia, United States</td>\n",
       "      <td>-83.835073</td>\n",
       "      <td>32.554346</td>\n",
       "    </tr>\n",
       "  </tbody>\n",
       "</table>\n",
       "</div>"
      ],
      "text/plain": [
       "     state  year disaster_type disaster_declaration             county   fips  \\\n",
       "0  Georgia  2017     Hurricane       HURRICANE IRMA     Laurens County  13175   \n",
       "1  Georgia  2017     Hurricane       HURRICANE IRMA        Long County  13183   \n",
       "2  Georgia  2017     Hurricane       HURRICANE IRMA      Oconee County  13219   \n",
       "3  Georgia  2017     Hurricane       HURRICANE IRMA  Oglethorpe County  13221   \n",
       "4  Georgia  2017     Hurricane       HURRICANE IRMA       Peach County  13225   \n",
       "\n",
       "                 county_state                                     geocode  \\\n",
       "0     Laurens County, Georgia      Laurens County, Georgia, United States   \n",
       "1        Long County, Georgia  Long County, Georgia, 31316, United States   \n",
       "2      Oconee County, Georgia       Oconee County, Georgia, United States   \n",
       "3  Oglethorpe County, Georgia   Oglethorpe County, Georgia, United States   \n",
       "4       Peach County, Georgia        Peach County, Georgia, United States   \n",
       "\n",
       "        long        lat  \n",
       "0 -82.938894  32.423997  \n",
       "1 -81.753725  31.770490  \n",
       "2 -83.427592  33.829579  \n",
       "3 -83.104938  33.870268  \n",
       "4 -83.835073  32.554346  "
      ]
     },
     "execution_count": 13,
     "metadata": {},
     "output_type": "execute_result"
    }
   ],
   "source": [
    "#The previous step of getting the lat and lon of each FIPS takes a long time, so save time by just loading the dataset\n",
    "#that we have already made by running this process!\n",
    "dfrq_df = pd.read_csv('datasets/disaster_freq_bubblemap.csv', encoding = 'latin1', index_col = 0)\n",
    "dfrq_df.head()"
   ]
  },
  {
   "cell_type": "code",
   "execution_count": 17,
   "metadata": {},
   "outputs": [
    {
     "data": {
      "text/html": [
       "<div>\n",
       "<style scoped>\n",
       "    .dataframe tbody tr th:only-of-type {\n",
       "        vertical-align: middle;\n",
       "    }\n",
       "\n",
       "    .dataframe tbody tr th {\n",
       "        vertical-align: top;\n",
       "    }\n",
       "\n",
       "    .dataframe thead th {\n",
       "        text-align: right;\n",
       "    }\n",
       "</style>\n",
       "<table border=\"1\" class=\"dataframe\">\n",
       "  <thead>\n",
       "    <tr style=\"text-align: right;\">\n",
       "      <th></th>\n",
       "      <th>fips</th>\n",
       "      <th>disaster_count</th>\n",
       "      <th>County &amp; State</th>\n",
       "      <th>Average_HP</th>\n",
       "    </tr>\n",
       "  </thead>\n",
       "  <tbody>\n",
       "    <tr>\n",
       "      <th>0</th>\n",
       "      <td>01001</td>\n",
       "      <td>1.0</td>\n",
       "      <td>Autauga County,  Alabama</td>\n",
       "      <td>160335.333333</td>\n",
       "    </tr>\n",
       "    <tr>\n",
       "      <th>1</th>\n",
       "      <td>01003</td>\n",
       "      <td>1.2</td>\n",
       "      <td>Baldwin County,  Alabama</td>\n",
       "      <td>228622.333333</td>\n",
       "    </tr>\n",
       "    <tr>\n",
       "      <th>2</th>\n",
       "      <td>01005</td>\n",
       "      <td>1.2</td>\n",
       "      <td>Barbour County,  Alabama</td>\n",
       "      <td>98030.000000</td>\n",
       "    </tr>\n",
       "    <tr>\n",
       "      <th>3</th>\n",
       "      <td>01007</td>\n",
       "      <td>0.8</td>\n",
       "      <td>Bibb County,  Alabama</td>\n",
       "      <td>100643.333333</td>\n",
       "    </tr>\n",
       "    <tr>\n",
       "      <th>4</th>\n",
       "      <td>01009</td>\n",
       "      <td>1.0</td>\n",
       "      <td>Blount County,  Alabama</td>\n",
       "      <td>135720.000000</td>\n",
       "    </tr>\n",
       "  </tbody>\n",
       "</table>\n",
       "</div>"
      ],
      "text/plain": [
       "    fips disaster_count            County & State     Average_HP\n",
       "0  01001            1.0  Autauga County,  Alabama  160335.333333\n",
       "1  01003            1.2  Baldwin County,  Alabama  228622.333333\n",
       "2  01005            1.2  Barbour County,  Alabama   98030.000000\n",
       "3  01007            0.8     Bibb County,  Alabama  100643.333333\n",
       "4  01009            1.0   Blount County,  Alabama  135720.000000"
      ]
     },
     "execution_count": 17,
     "metadata": {},
     "output_type": "execute_result"
    }
   ],
   "source": [
    "#Need to typecast the fips to string in housing data\n",
    "housing_df['fips'] = housing_df['fips'].astype(str)\n",
    "#Merging the housing price data with the disaster count!\n",
    "merged_df =  pd.merge(df_dcount,housing_df,  on ='fips',how='right')\n",
    "merged_df = merged_df[~merged_df.isnull().any(axis=1)]\n",
    "merged_df.head()"
   ]
  },
  {
   "cell_type": "markdown",
   "metadata": {},
   "source": [
    "# Data Analysis & Results"
   ]
  },
  {
   "cell_type": "markdown",
   "metadata": {},
   "source": [
    "Include cells that describe the steps in your data analysis."
   ]
  },
  {
   "cell_type": "code",
   "execution_count": 18,
   "metadata": {},
   "outputs": [],
   "source": [
    "import plotly.graph_objects as go\n",
    "\n",
    "import pandas as pd"
   ]
  },
  {
   "cell_type": "code",
   "execution_count": null,
   "metadata": {},
   "outputs": [],
   "source": [
    "#Now that we have all the lat and lon locations for every disaster location lets plot the data!\n",
    "#We can see the disasters per year across the country, and what a type of disaster.\n",
    "bm = pd.read_csv('datasets/disaster_freq_bubblemap.csv')\n",
    "fig = px.scatter_geo(bm,lat='lat',lon='long',hover_name='county_state',animation_frame='year',\n",
    "                     projection='albers usa',hover_data=['disaster_type'],color='disaster_type')\n",
    "fig.show()"
   ]
  },
  {
   "cell_type": "code",
   "execution_count": null,
   "metadata": {},
   "outputs": [],
   "source": [
    "Image(filename='images/bubblemap.gif')"
   ]
  },
  {
   "cell_type": "code",
   "execution_count": null,
   "metadata": {},
   "outputs": [],
   "source": [
    "#Mapping out the disaster count on a choropleth\n",
    "with urlopen('https://raw.githubusercontent.com/plotly/datasets/master/geojson-counties-fips.json') as response:\n",
    "    counties = json.load(response)\n",
    "fig = px.choropleth(merged_df, geojson=counties,locations='fips', color='disaster_count',\n",
    "                           color_continuous_scale=\"reds\",\n",
    "                           range_color=(6, 0),\n",
    "                           scope=\"usa\",\n",
    "                           labels={'2021':'Housing Price'}\n",
    "                          )\n",
    "fig.update_layout(margin={\"r\":0,\"t\":0,\"l\":0,\"b\":0})\n",
    "fig.write_image(\"images/disaster_choropleth.png\")\n",
    "Image(filename='images/disaster_choropleth.png') "
   ]
  },
  {
   "cell_type": "code",
   "execution_count": 19,
   "metadata": {},
   "outputs": [
    {
     "data": {
      "image/png": "[encoded data removed]",
      "text/plain": [
       "<Figure size 1440x720 with 2 Axes>"
      ]
     },
     "metadata": {
      "image/png": {
       "height": 603,
       "width": 1163
      },
      "needs_background": "light"
     },
     "output_type": "display_data"
    }
   ],
   "source": [
    "#Prenomralized distributions of the housing prices and disaster count/\n",
    "merged_df['disaster_count'] = merged_df['disaster_count'].astype(float)\n",
    "merged_df['disaster_count'] = merged_df['disaster_count'].sort_values(ascending=False)\n",
    "\n",
    "\n",
    "fig, (ax1,ax2) = plt.subplots(1,2,figsize=(20,10))\n",
    "\n",
    "#Quantized housingprice so it shows better on a barplot\n",
    "merged_df['quantile'] = pd.cut(merged_df['Average_HP'],100)\n",
    "\n",
    "sns.histplot(x=merged_df['disaster_count'], ax = ax2, data = merged_df['disaster_count'])\n",
    "\n",
    "sns.histplot(x=merged_df['quantile'].value_counts(), ax = ax1, data = merged_df)\n",
    "\n",
    "ax1.set_title('Prenormalized Average 17-21 Housing Price Distribution')\n",
    "ax2.set_title('Prenormalized Disaster Count Distribution')\n",
    "\n",
    "sns.despine()\n",
    "plt.show()"
   ]
  },
  {
   "cell_type": "code",
   "execution_count": 20,
   "metadata": {},
   "outputs": [
    {
     "data": {
      "image/png": "[encoded data removed]",
      "text/plain": [
       "<Figure size 720x360 with 1 Axes>"
      ]
     },
     "metadata": {
      "image/png": {
       "height": 331,
       "width": 612
      },
      "needs_background": "light"
     },
     "output_type": "display_data"
    }
   ],
   "source": [
    "#A closer look at average housing price\n",
    "sns.histplot(x='Average_HP', data = merged_df).set_title('Average 17-21 Housing Price Distribution')\n",
    "plt.axvline(x=merged_df['Average_HP'].median(),\n",
    "            color='red', ls='--', lw=2.5)\n",
    "sns.despine()"
   ]
  },
  {
   "cell_type": "code",
   "execution_count": null,
   "metadata": {},
   "outputs": [],
   "source": [
    "#A look at a chorpleth of average housing prices \n",
    "with urlopen('https://raw.githubusercontent.com/plotly/datasets/master/geojson-counties-fips.json') as response:\n",
    "    counties = json.load(response)\n",
    "fig = px.choropleth(merged_df, geojson=counties,locations='fips', color='Average_HP',\n",
    "                           color_continuous_scale=\"ylorrd\",\n",
    "                           range_color=(50000, 300000),\n",
    "                           scope=\"usa\",\n",
    "                           labels={'2021':'Housing Price'}\n",
    "                          )\n",
    "fig.update_layout(margin={\"r\":0,\"t\":0,\"l\":0,\"b\":0})\n",
    "fig.write_image(\"images/Average_HP_choropleth.png\")\n",
    "Image(filename='images/Average_HP_choropleth.png') "
   ]
  },
  {
   "cell_type": "code",
   "execution_count": 64,
   "metadata": {},
   "outputs": [],
   "source": [
    "#Lets normalize the data for average housing price and for the disaster count\n",
    "fitted_data, fitted_lambda = boxcox(merged_df['Average_HP'])\n",
    "merged_df['Average_HP_boxcox'] = fitted_data\n",
    "\n",
    "fitted_data2,fitted_lambda2 = boxcox(merged_df['disaster_count']+0.1)\n",
    "merged_df['disaster_count_boxcox'] = fitted_data2\n"
   ]
  },
  {
   "cell_type": "code",
   "execution_count": 65,
   "metadata": {},
   "outputs": [
    {
     "data": {
      "image/png": "[encoded data removed]",
      "text/plain": [
       "<Figure size 1440x720 with 2 Axes>"
      ]
     },
     "metadata": {
      "image/png": {
       "height": 603,
       "width": 1170
      },
      "needs_background": "light"
     },
     "output_type": "display_data"
    }
   ],
   "source": [
    "fig, (ax1,ax2) = plt.subplots(1,2,figsize=(20,10))\n",
    "\n",
    "sns.histplot(x='Average_HP_boxcox', data = merged_df, ax=ax1).set_title('Normalized Average Housing Price Distribution(boxcox transformation)')\n",
    "\n",
    "sns.despine()\n",
    "\n",
    "sns.histplot(x='disaster_count_boxcox', data = merged_df, ax=ax2).set_title('Disaster Count Distribution(boxcox transformation)')\n",
    "\n",
    "sns.despine()\n",
    "\n",
    "plt.show()"
   ]
  },
  {
   "cell_type": "code",
   "execution_count": 66,
   "metadata": {},
   "outputs": [
    {
     "data": {
      "text/plain": [
       "<AxesSubplot:xlabel='disaster_count_boxcox', ylabel='Average_HP_boxcox'>"
      ]
     },
     "execution_count": 66,
     "metadata": {},
     "output_type": "execute_result"
    },
    {
     "data": {
      "image/png": "[encoded data removed]",
      "text/plain": [
       "<Figure size 720x360 with 1 Axes>"
      ]
     },
     "metadata": {
      "image/png": {
       "height": 316,
       "width": 622
      },
      "needs_background": "light"
     },
     "output_type": "display_data"
    }
   ],
   "source": [
    "#A lined scatter plot for disaster count vs Average_HP \n",
    "sns.scatterplot(x = 'disaster_count_boxcox',y='Average_HP_boxcox',data=merged_df)\n",
    "\n",
    "# sns.lmplot(x = 'disaster_count_boxcox', y = 'Average_HP_boxcox', height = 6, aspect=1.5,data = merged_df)\n",
    "\n",
    "# plt.title('LinePlot of disaster_count vs. Average_Housing_Price')\n",
    "\n",
    "# plt.show()"
   ]
  },
  {
   "cell_type": "code",
   "execution_count": 67,
   "metadata": {},
   "outputs": [
    {
     "name": "stdout",
     "output_type": "stream",
     "text": [
      "                            OLS Regression Results                            \n",
      "==============================================================================\n",
      "Dep. Variable:      Average_HP_boxcox   R-squared:                       0.001\n",
      "Model:                            OLS   Adj. R-squared:                  0.001\n",
      "Method:                 Least Squares   F-statistic:                     3.162\n",
      "Date:                Sun, 13 Mar 2022   Prob (F-statistic):             0.0755\n",
      "Time:                        09:49:01   Log-Likelihood:                 13295.\n",
      "No. Observations:                2404   AIC:                        -2.659e+04\n",
      "Df Residuals:                    2402   BIC:                        -2.657e+04\n",
      "Df Model:                           1                                         \n",
      "Covariance Type:            nonrobust                                         \n",
      "=========================================================================================\n",
      "                            coef    std err          t      P>|t|      [0.025      0.975]\n",
      "-----------------------------------------------------------------------------------------\n",
      "Intercept                 1.9130   2.69e-05    7.1e+04      0.000       1.913       1.913\n",
      "disaster_count_boxcox -5.085e-05   2.86e-05     -1.778      0.076      -0.000    5.23e-06\n",
      "==============================================================================\n",
      "Omnibus:                        5.762   Durbin-Watson:                   0.960\n",
      "Prob(Omnibus):                  0.056   Jarque-Bera (JB):                6.785\n",
      "Skew:                           0.012   Prob(JB):                       0.0336\n",
      "Kurtosis:                       3.259   Cond. No.                         2.33\n",
      "==============================================================================\n",
      "\n",
      "Notes:\n",
      "[1] Standard Errors assume that the covariance matrix of the errors is correctly specified.\n"
     ]
    }
   ],
   "source": [
    "outcome, predictors = patsy.dmatrices('Average_HP_boxcox ~ disaster_count_boxcox', merged_df)\n",
    "\n",
    "mod_log = sm.OLS(outcome, predictors)\n",
    "res_log = mod_log.fit()\n",
    "print(res_log.summary())"
   ]
  },
  {
   "cell_type": "markdown",
   "metadata": {},
   "source": [
    "# Ethics & Privacy"
   ]
  },
  {
   "cell_type": "markdown",
   "metadata": {},
   "source": [
    "*Fill in your ethics & privacy discussion here*"
   ]
  },
  {
   "cell_type": "markdown",
   "metadata": {},
   "source": [
    "# Conclusion & Discussion"
   ]
  },
  {
   "cell_type": "markdown",
   "metadata": {},
   "source": [
    "*Fill in your discussion information here*"
   ]
  },
  {
   "cell_type": "markdown",
   "metadata": {},
   "source": [
    "# Team Contributions"
   ]
  },
  {
   "cell_type": "markdown",
   "metadata": {},
   "source": [
    "*Specify who in your group worked on which parts of the project.*"
   ]
  }
 ],
 "metadata": {
  "kernelspec": {
   "display_name": "Python 3 (ipykernel)",
   "language": "python",
   "name": "python3"
  },
  "language_info": {
   "codemirror_mode": {
    "name": "ipython",
    "version": 3
   },
   "file_extension": ".py",
   "mimetype": "text/x-python",
   "name": "python",
   "nbconvert_exporter": "python",
   "pygments_lexer": "ipython3",
   "version": "3.9.7"
  }
 },
 "nbformat": 4,
 "nbformat_minor": 2
}
